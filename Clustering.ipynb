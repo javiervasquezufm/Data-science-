{
  "nbformat": 4,
  "nbformat_minor": 0,
  "metadata": {
    "colab": {
      "name": "Copy of Laboratorio 10 - EoML.ipynb",
      "version": "0.3.2",
      "provenance": [],
      "collapsed_sections": [],
      "include_colab_link": true
    },
    "kernelspec": {
      "name": "python3",
      "display_name": "Python 3"
    },
    "accelerator": "GPU"
  },
  "cells": [
    {
      "cell_type": "markdown",
      "metadata": {
        "id": "view-in-github",
        "colab_type": "text"
      },
      "source": [
        "<a href=\"https://colab.research.google.com/github/javiervasquezufm/ELEMENTS-OF-MACHINE-LEARNING/blob/master/Clustering.ipynb\" target=\"_parent\"><img src=\"https://colab.research.google.com/assets/colab-badge.svg\" alt=\"Open In Colab\"/></a>"
      ]
    },
    {
      "cell_type": "markdown",
      "metadata": {
        "id": "Ogh-5HfiUKBJ",
        "colab_type": "text"
      },
      "source": [
        "# Laboratorio 10\n",
        "\n",
        "En este laboratorio encontraremos el valor óptimo de k en k-mean clustering con una gráfica de distancia cuadrada media respecto a k"
      ]
    },
    {
      "cell_type": "markdown",
      "metadata": {
        "id": "zQSVOrgUy8lg",
        "colab_type": "text"
      },
      "source": [
        ""
      ]
    },
    {
      "cell_type": "code",
      "metadata": {
        "id": "sqj79xiaUPOV",
        "colab_type": "code",
        "outputId": "f343d313-5e88-44ae-ecc7-d9433d702233",
        "colab": {
          "base_uri": "https://localhost:8080/",
          "height": 34
        }
      },
      "source": [
        "import pandas as pd\n",
        "from sklearn.preprocessing import StandardScaler\n",
        "from sklearn.cluster import KMeans\n",
        "\n",
        "import matplotlib.pyplot as plt\n",
        "\n",
        "print(\"Todos los paquetes han sido importados:\")"
      ],
      "execution_count": 0,
      "outputs": [
        {
          "output_type": "stream",
          "text": [
            "Todos los paquetes han sido importados:\n"
          ],
          "name": "stdout"
        }
      ]
    },
    {
      "cell_type": "markdown",
      "metadata": {
        "id": "dRzhSNwbvMo6",
        "colab_type": "text"
      },
      "source": [
        "Trabajaremos sobre la base de datos de casas de Wholesales costumers, que se encuentra en [Machine Learning Repository](http://archive.ics.uci.edu/ml/datasets/Wholesale+customers).\n",
        "\n",
        "1.   Enumera qué variables son continuas y qué variables son categóricas\n",
        "2.   Despliega la estadística descriptiva de las variables continuas del dataset para explorarlo\n",
        "3.   Convierte las variables categóricas en binarias usando pd.get_dummies.\n",
        "4.   Estandariza las variables usando una escala estándar (StandardScaler). Explica por qué este paso es importante.\n",
        "5.   En un rango de 1 a 15 para k, realiza el clustering sobre los datos y para cada k guarda el valor de la distancia cuadrada media.\n",
        "6.   Haz una gráfica de k contra la distancia cuadrada media. ¿Qué criterio puedes usar para identificar el valor óptimo de k? ¿Qué pasa cuando k se aproxima a n, la cantidad de observaciones?\n",
        "7.   Repite el clustering ahora usando el valor óptimo de k. Ubica la posición de cada centroide y comenta acerca de cada uno (por ejemplo, ¿qué valores para cada variable caracterizan a cada centroide?)\n",
        "\n"
      ]
    },
    {
      "cell_type": "code",
      "metadata": {
        "id": "yTXW865itUhg",
        "colab_type": "code",
        "colab": {}
      },
      "source": [
        "from google.colab import files"
      ],
      "execution_count": 0,
      "outputs": []
    },
    {
      "cell_type": "code",
      "metadata": {
        "id": "6u1RLj7ctXXO",
        "colab_type": "code",
        "outputId": "91128a82-2a5c-4328-8597-65294b7c8a6f",
        "colab": {
          "resources": {
            "http://localhost:8080/nbextensions/google.colab/files.js": {
              "data": "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",
              "ok": true,
              "headers": [
                [
                  "content-type",
                  "application/javascript"
                ]
              ],
              "status": 200,
              "status_text": ""
            }
          },
          "base_uri": "https://localhost:8080/",
          "height": 74
        }
      },
      "source": [
        "data = files.upload()"
      ],
      "execution_count": 0,
      "outputs": [
        {
          "output_type": "display_data",
          "data": {
            "text/html": [
              "\n",
              "     <input type=\"file\" id=\"files-f0dd33a6-f01b-4f98-bb6d-466a5b066102\" name=\"files[]\" multiple disabled />\n",
              "     <output id=\"result-f0dd33a6-f01b-4f98-bb6d-466a5b066102\">\n",
              "      Upload widget is only available when the cell has been executed in the\n",
              "      current browser session. Please rerun this cell to enable.\n",
              "      </output>\n",
              "      <script src=\"/nbextensions/google.colab/files.js\"></script> "
            ],
            "text/plain": [
              "<IPython.core.display.HTML object>"
            ]
          },
          "metadata": {
            "tags": []
          }
        },
        {
          "output_type": "stream",
          "text": [
            "Saving Wholesale customers data.csv to Wholesale customers data.csv\n"
          ],
          "name": "stdout"
        }
      ]
    },
    {
      "cell_type": "code",
      "metadata": {
        "id": "sT33rq-ntena",
        "colab_type": "code",
        "colab": {}
      },
      "source": [
        "data1 = pd.read_csv(\"Wholesale customers data.csv\")"
      ],
      "execution_count": 0,
      "outputs": []
    },
    {
      "cell_type": "code",
      "metadata": {
        "id": "4n71SZvntqfY",
        "colab_type": "code",
        "outputId": "cd6dbff6-6ce3-4112-9b8b-278ca09c8d4d",
        "colab": {
          "base_uri": "https://localhost:8080/",
          "height": 197
        }
      },
      "source": [
        "data1.head()"
      ],
      "execution_count": 0,
      "outputs": [
        {
          "output_type": "execute_result",
          "data": {
            "text/html": [
              "<div>\n",
              "<style scoped>\n",
              "    .dataframe tbody tr th:only-of-type {\n",
              "        vertical-align: middle;\n",
              "    }\n",
              "\n",
              "    .dataframe tbody tr th {\n",
              "        vertical-align: top;\n",
              "    }\n",
              "\n",
              "    .dataframe thead th {\n",
              "        text-align: right;\n",
              "    }\n",
              "</style>\n",
              "<table border=\"1\" class=\"dataframe\">\n",
              "  <thead>\n",
              "    <tr style=\"text-align: right;\">\n",
              "      <th></th>\n",
              "      <th>Channel</th>\n",
              "      <th>Region</th>\n",
              "      <th>Fresh</th>\n",
              "      <th>Milk</th>\n",
              "      <th>Grocery</th>\n",
              "      <th>Frozen</th>\n",
              "      <th>Detergents_Paper</th>\n",
              "      <th>Delicassen</th>\n",
              "    </tr>\n",
              "  </thead>\n",
              "  <tbody>\n",
              "    <tr>\n",
              "      <th>0</th>\n",
              "      <td>2</td>\n",
              "      <td>3</td>\n",
              "      <td>12669</td>\n",
              "      <td>9656</td>\n",
              "      <td>7561</td>\n",
              "      <td>214</td>\n",
              "      <td>2674</td>\n",
              "      <td>1338</td>\n",
              "    </tr>\n",
              "    <tr>\n",
              "      <th>1</th>\n",
              "      <td>2</td>\n",
              "      <td>3</td>\n",
              "      <td>7057</td>\n",
              "      <td>9810</td>\n",
              "      <td>9568</td>\n",
              "      <td>1762</td>\n",
              "      <td>3293</td>\n",
              "      <td>1776</td>\n",
              "    </tr>\n",
              "    <tr>\n",
              "      <th>2</th>\n",
              "      <td>2</td>\n",
              "      <td>3</td>\n",
              "      <td>6353</td>\n",
              "      <td>8808</td>\n",
              "      <td>7684</td>\n",
              "      <td>2405</td>\n",
              "      <td>3516</td>\n",
              "      <td>7844</td>\n",
              "    </tr>\n",
              "    <tr>\n",
              "      <th>3</th>\n",
              "      <td>1</td>\n",
              "      <td>3</td>\n",
              "      <td>13265</td>\n",
              "      <td>1196</td>\n",
              "      <td>4221</td>\n",
              "      <td>6404</td>\n",
              "      <td>507</td>\n",
              "      <td>1788</td>\n",
              "    </tr>\n",
              "    <tr>\n",
              "      <th>4</th>\n",
              "      <td>2</td>\n",
              "      <td>3</td>\n",
              "      <td>22615</td>\n",
              "      <td>5410</td>\n",
              "      <td>7198</td>\n",
              "      <td>3915</td>\n",
              "      <td>1777</td>\n",
              "      <td>5185</td>\n",
              "    </tr>\n",
              "  </tbody>\n",
              "</table>\n",
              "</div>"
            ],
            "text/plain": [
              "   Channel  Region  Fresh  Milk  Grocery  Frozen  Detergents_Paper  Delicassen\n",
              "0        2       3  12669  9656     7561     214              2674        1338\n",
              "1        2       3   7057  9810     9568    1762              3293        1776\n",
              "2        2       3   6353  8808     7684    2405              3516        7844\n",
              "3        1       3  13265  1196     4221    6404               507        1788\n",
              "4        2       3  22615  5410     7198    3915              1777        5185"
            ]
          },
          "metadata": {
            "tags": []
          },
          "execution_count": 6
        }
      ]
    },
    {
      "cell_type": "code",
      "metadata": {
        "id": "lfnlYATnua_D",
        "colab_type": "code",
        "outputId": "378c1bdc-986e-490e-c081-60775e1f223e",
        "colab": {
          "base_uri": "https://localhost:8080/",
          "height": 247
        }
      },
      "source": [
        "data1.info()"
      ],
      "execution_count": 0,
      "outputs": [
        {
          "output_type": "stream",
          "text": [
            "<class 'pandas.core.frame.DataFrame'>\n",
            "RangeIndex: 440 entries, 0 to 439\n",
            "Data columns (total 8 columns):\n",
            "Channel             440 non-null int64\n",
            "Region              440 non-null int64\n",
            "Fresh               440 non-null int64\n",
            "Milk                440 non-null int64\n",
            "Grocery             440 non-null int64\n",
            "Frozen              440 non-null int64\n",
            "Detergents_Paper    440 non-null int64\n",
            "Delicassen          440 non-null int64\n",
            "dtypes: int64(8)\n",
            "memory usage: 27.6 KB\n"
          ],
          "name": "stdout"
        }
      ]
    },
    {
      "cell_type": "code",
      "metadata": {
        "id": "bl0jRuohsK5O",
        "colab_type": "code",
        "outputId": "d0129c20-d8e1-4571-b1d2-2b3ac8a796b9",
        "colab": {
          "base_uri": "https://localhost:8080/",
          "height": 1906
        }
      },
      "source": [
        "data1.fillna(0)"
      ],
      "execution_count": 0,
      "outputs": [
        {
          "output_type": "execute_result",
          "data": {
            "text/html": [
              "<div>\n",
              "<style scoped>\n",
              "    .dataframe tbody tr th:only-of-type {\n",
              "        vertical-align: middle;\n",
              "    }\n",
              "\n",
              "    .dataframe tbody tr th {\n",
              "        vertical-align: top;\n",
              "    }\n",
              "\n",
              "    .dataframe thead th {\n",
              "        text-align: right;\n",
              "    }\n",
              "</style>\n",
              "<table border=\"1\" class=\"dataframe\">\n",
              "  <thead>\n",
              "    <tr style=\"text-align: right;\">\n",
              "      <th></th>\n",
              "      <th>Channel</th>\n",
              "      <th>Region</th>\n",
              "      <th>Fresh</th>\n",
              "      <th>Milk</th>\n",
              "      <th>Grocery</th>\n",
              "      <th>Frozen</th>\n",
              "      <th>Detergents_Paper</th>\n",
              "      <th>Delicassen</th>\n",
              "    </tr>\n",
              "  </thead>\n",
              "  <tbody>\n",
              "    <tr>\n",
              "      <th>0</th>\n",
              "      <td>2</td>\n",
              "      <td>3</td>\n",
              "      <td>12669</td>\n",
              "      <td>9656</td>\n",
              "      <td>7561</td>\n",
              "      <td>214</td>\n",
              "      <td>2674</td>\n",
              "      <td>1338</td>\n",
              "    </tr>\n",
              "    <tr>\n",
              "      <th>1</th>\n",
              "      <td>2</td>\n",
              "      <td>3</td>\n",
              "      <td>7057</td>\n",
              "      <td>9810</td>\n",
              "      <td>9568</td>\n",
              "      <td>1762</td>\n",
              "      <td>3293</td>\n",
              "      <td>1776</td>\n",
              "    </tr>\n",
              "    <tr>\n",
              "      <th>2</th>\n",
              "      <td>2</td>\n",
              "      <td>3</td>\n",
              "      <td>6353</td>\n",
              "      <td>8808</td>\n",
              "      <td>7684</td>\n",
              "      <td>2405</td>\n",
              "      <td>3516</td>\n",
              "      <td>7844</td>\n",
              "    </tr>\n",
              "    <tr>\n",
              "      <th>3</th>\n",
              "      <td>1</td>\n",
              "      <td>3</td>\n",
              "      <td>13265</td>\n",
              "      <td>1196</td>\n",
              "      <td>4221</td>\n",
              "      <td>6404</td>\n",
              "      <td>507</td>\n",
              "      <td>1788</td>\n",
              "    </tr>\n",
              "    <tr>\n",
              "      <th>4</th>\n",
              "      <td>2</td>\n",
              "      <td>3</td>\n",
              "      <td>22615</td>\n",
              "      <td>5410</td>\n",
              "      <td>7198</td>\n",
              "      <td>3915</td>\n",
              "      <td>1777</td>\n",
              "      <td>5185</td>\n",
              "    </tr>\n",
              "    <tr>\n",
              "      <th>5</th>\n",
              "      <td>2</td>\n",
              "      <td>3</td>\n",
              "      <td>9413</td>\n",
              "      <td>8259</td>\n",
              "      <td>5126</td>\n",
              "      <td>666</td>\n",
              "      <td>1795</td>\n",
              "      <td>1451</td>\n",
              "    </tr>\n",
              "    <tr>\n",
              "      <th>6</th>\n",
              "      <td>2</td>\n",
              "      <td>3</td>\n",
              "      <td>12126</td>\n",
              "      <td>3199</td>\n",
              "      <td>6975</td>\n",
              "      <td>480</td>\n",
              "      <td>3140</td>\n",
              "      <td>545</td>\n",
              "    </tr>\n",
              "    <tr>\n",
              "      <th>7</th>\n",
              "      <td>2</td>\n",
              "      <td>3</td>\n",
              "      <td>7579</td>\n",
              "      <td>4956</td>\n",
              "      <td>9426</td>\n",
              "      <td>1669</td>\n",
              "      <td>3321</td>\n",
              "      <td>2566</td>\n",
              "    </tr>\n",
              "    <tr>\n",
              "      <th>8</th>\n",
              "      <td>1</td>\n",
              "      <td>3</td>\n",
              "      <td>5963</td>\n",
              "      <td>3648</td>\n",
              "      <td>6192</td>\n",
              "      <td>425</td>\n",
              "      <td>1716</td>\n",
              "      <td>750</td>\n",
              "    </tr>\n",
              "    <tr>\n",
              "      <th>9</th>\n",
              "      <td>2</td>\n",
              "      <td>3</td>\n",
              "      <td>6006</td>\n",
              "      <td>11093</td>\n",
              "      <td>18881</td>\n",
              "      <td>1159</td>\n",
              "      <td>7425</td>\n",
              "      <td>2098</td>\n",
              "    </tr>\n",
              "    <tr>\n",
              "      <th>10</th>\n",
              "      <td>2</td>\n",
              "      <td>3</td>\n",
              "      <td>3366</td>\n",
              "      <td>5403</td>\n",
              "      <td>12974</td>\n",
              "      <td>4400</td>\n",
              "      <td>5977</td>\n",
              "      <td>1744</td>\n",
              "    </tr>\n",
              "    <tr>\n",
              "      <th>11</th>\n",
              "      <td>2</td>\n",
              "      <td>3</td>\n",
              "      <td>13146</td>\n",
              "      <td>1124</td>\n",
              "      <td>4523</td>\n",
              "      <td>1420</td>\n",
              "      <td>549</td>\n",
              "      <td>497</td>\n",
              "    </tr>\n",
              "    <tr>\n",
              "      <th>12</th>\n",
              "      <td>2</td>\n",
              "      <td>3</td>\n",
              "      <td>31714</td>\n",
              "      <td>12319</td>\n",
              "      <td>11757</td>\n",
              "      <td>287</td>\n",
              "      <td>3881</td>\n",
              "      <td>2931</td>\n",
              "    </tr>\n",
              "    <tr>\n",
              "      <th>13</th>\n",
              "      <td>2</td>\n",
              "      <td>3</td>\n",
              "      <td>21217</td>\n",
              "      <td>6208</td>\n",
              "      <td>14982</td>\n",
              "      <td>3095</td>\n",
              "      <td>6707</td>\n",
              "      <td>602</td>\n",
              "    </tr>\n",
              "    <tr>\n",
              "      <th>14</th>\n",
              "      <td>2</td>\n",
              "      <td>3</td>\n",
              "      <td>24653</td>\n",
              "      <td>9465</td>\n",
              "      <td>12091</td>\n",
              "      <td>294</td>\n",
              "      <td>5058</td>\n",
              "      <td>2168</td>\n",
              "    </tr>\n",
              "    <tr>\n",
              "      <th>15</th>\n",
              "      <td>1</td>\n",
              "      <td>3</td>\n",
              "      <td>10253</td>\n",
              "      <td>1114</td>\n",
              "      <td>3821</td>\n",
              "      <td>397</td>\n",
              "      <td>964</td>\n",
              "      <td>412</td>\n",
              "    </tr>\n",
              "    <tr>\n",
              "      <th>16</th>\n",
              "      <td>2</td>\n",
              "      <td>3</td>\n",
              "      <td>1020</td>\n",
              "      <td>8816</td>\n",
              "      <td>12121</td>\n",
              "      <td>134</td>\n",
              "      <td>4508</td>\n",
              "      <td>1080</td>\n",
              "    </tr>\n",
              "    <tr>\n",
              "      <th>17</th>\n",
              "      <td>1</td>\n",
              "      <td>3</td>\n",
              "      <td>5876</td>\n",
              "      <td>6157</td>\n",
              "      <td>2933</td>\n",
              "      <td>839</td>\n",
              "      <td>370</td>\n",
              "      <td>4478</td>\n",
              "    </tr>\n",
              "    <tr>\n",
              "      <th>18</th>\n",
              "      <td>2</td>\n",
              "      <td>3</td>\n",
              "      <td>18601</td>\n",
              "      <td>6327</td>\n",
              "      <td>10099</td>\n",
              "      <td>2205</td>\n",
              "      <td>2767</td>\n",
              "      <td>3181</td>\n",
              "    </tr>\n",
              "    <tr>\n",
              "      <th>19</th>\n",
              "      <td>1</td>\n",
              "      <td>3</td>\n",
              "      <td>7780</td>\n",
              "      <td>2495</td>\n",
              "      <td>9464</td>\n",
              "      <td>669</td>\n",
              "      <td>2518</td>\n",
              "      <td>501</td>\n",
              "    </tr>\n",
              "    <tr>\n",
              "      <th>20</th>\n",
              "      <td>2</td>\n",
              "      <td>3</td>\n",
              "      <td>17546</td>\n",
              "      <td>4519</td>\n",
              "      <td>4602</td>\n",
              "      <td>1066</td>\n",
              "      <td>2259</td>\n",
              "      <td>2124</td>\n",
              "    </tr>\n",
              "    <tr>\n",
              "      <th>21</th>\n",
              "      <td>1</td>\n",
              "      <td>3</td>\n",
              "      <td>5567</td>\n",
              "      <td>871</td>\n",
              "      <td>2010</td>\n",
              "      <td>3383</td>\n",
              "      <td>375</td>\n",
              "      <td>569</td>\n",
              "    </tr>\n",
              "    <tr>\n",
              "      <th>22</th>\n",
              "      <td>1</td>\n",
              "      <td>3</td>\n",
              "      <td>31276</td>\n",
              "      <td>1917</td>\n",
              "      <td>4469</td>\n",
              "      <td>9408</td>\n",
              "      <td>2381</td>\n",
              "      <td>4334</td>\n",
              "    </tr>\n",
              "    <tr>\n",
              "      <th>23</th>\n",
              "      <td>2</td>\n",
              "      <td>3</td>\n",
              "      <td>26373</td>\n",
              "      <td>36423</td>\n",
              "      <td>22019</td>\n",
              "      <td>5154</td>\n",
              "      <td>4337</td>\n",
              "      <td>16523</td>\n",
              "    </tr>\n",
              "    <tr>\n",
              "      <th>24</th>\n",
              "      <td>2</td>\n",
              "      <td>3</td>\n",
              "      <td>22647</td>\n",
              "      <td>9776</td>\n",
              "      <td>13792</td>\n",
              "      <td>2915</td>\n",
              "      <td>4482</td>\n",
              "      <td>5778</td>\n",
              "    </tr>\n",
              "    <tr>\n",
              "      <th>25</th>\n",
              "      <td>2</td>\n",
              "      <td>3</td>\n",
              "      <td>16165</td>\n",
              "      <td>4230</td>\n",
              "      <td>7595</td>\n",
              "      <td>201</td>\n",
              "      <td>4003</td>\n",
              "      <td>57</td>\n",
              "    </tr>\n",
              "    <tr>\n",
              "      <th>26</th>\n",
              "      <td>1</td>\n",
              "      <td>3</td>\n",
              "      <td>9898</td>\n",
              "      <td>961</td>\n",
              "      <td>2861</td>\n",
              "      <td>3151</td>\n",
              "      <td>242</td>\n",
              "      <td>833</td>\n",
              "    </tr>\n",
              "    <tr>\n",
              "      <th>27</th>\n",
              "      <td>1</td>\n",
              "      <td>3</td>\n",
              "      <td>14276</td>\n",
              "      <td>803</td>\n",
              "      <td>3045</td>\n",
              "      <td>485</td>\n",
              "      <td>100</td>\n",
              "      <td>518</td>\n",
              "    </tr>\n",
              "    <tr>\n",
              "      <th>28</th>\n",
              "      <td>2</td>\n",
              "      <td>3</td>\n",
              "      <td>4113</td>\n",
              "      <td>20484</td>\n",
              "      <td>25957</td>\n",
              "      <td>1158</td>\n",
              "      <td>8604</td>\n",
              "      <td>5206</td>\n",
              "    </tr>\n",
              "    <tr>\n",
              "      <th>29</th>\n",
              "      <td>1</td>\n",
              "      <td>3</td>\n",
              "      <td>43088</td>\n",
              "      <td>2100</td>\n",
              "      <td>2609</td>\n",
              "      <td>1200</td>\n",
              "      <td>1107</td>\n",
              "      <td>823</td>\n",
              "    </tr>\n",
              "    <tr>\n",
              "      <th>...</th>\n",
              "      <td>...</td>\n",
              "      <td>...</td>\n",
              "      <td>...</td>\n",
              "      <td>...</td>\n",
              "      <td>...</td>\n",
              "      <td>...</td>\n",
              "      <td>...</td>\n",
              "      <td>...</td>\n",
              "    </tr>\n",
              "    <tr>\n",
              "      <th>410</th>\n",
              "      <td>1</td>\n",
              "      <td>3</td>\n",
              "      <td>6633</td>\n",
              "      <td>2096</td>\n",
              "      <td>4563</td>\n",
              "      <td>1389</td>\n",
              "      <td>1860</td>\n",
              "      <td>1892</td>\n",
              "    </tr>\n",
              "    <tr>\n",
              "      <th>411</th>\n",
              "      <td>1</td>\n",
              "      <td>3</td>\n",
              "      <td>2126</td>\n",
              "      <td>3289</td>\n",
              "      <td>3281</td>\n",
              "      <td>1535</td>\n",
              "      <td>235</td>\n",
              "      <td>4365</td>\n",
              "    </tr>\n",
              "    <tr>\n",
              "      <th>412</th>\n",
              "      <td>1</td>\n",
              "      <td>3</td>\n",
              "      <td>97</td>\n",
              "      <td>3605</td>\n",
              "      <td>12400</td>\n",
              "      <td>98</td>\n",
              "      <td>2970</td>\n",
              "      <td>62</td>\n",
              "    </tr>\n",
              "    <tr>\n",
              "      <th>413</th>\n",
              "      <td>1</td>\n",
              "      <td>3</td>\n",
              "      <td>4983</td>\n",
              "      <td>4859</td>\n",
              "      <td>6633</td>\n",
              "      <td>17866</td>\n",
              "      <td>912</td>\n",
              "      <td>2435</td>\n",
              "    </tr>\n",
              "    <tr>\n",
              "      <th>414</th>\n",
              "      <td>1</td>\n",
              "      <td>3</td>\n",
              "      <td>5969</td>\n",
              "      <td>1990</td>\n",
              "      <td>3417</td>\n",
              "      <td>5679</td>\n",
              "      <td>1135</td>\n",
              "      <td>290</td>\n",
              "    </tr>\n",
              "    <tr>\n",
              "      <th>415</th>\n",
              "      <td>2</td>\n",
              "      <td>3</td>\n",
              "      <td>7842</td>\n",
              "      <td>6046</td>\n",
              "      <td>8552</td>\n",
              "      <td>1691</td>\n",
              "      <td>3540</td>\n",
              "      <td>1874</td>\n",
              "    </tr>\n",
              "    <tr>\n",
              "      <th>416</th>\n",
              "      <td>2</td>\n",
              "      <td>3</td>\n",
              "      <td>4389</td>\n",
              "      <td>10940</td>\n",
              "      <td>10908</td>\n",
              "      <td>848</td>\n",
              "      <td>6728</td>\n",
              "      <td>993</td>\n",
              "    </tr>\n",
              "    <tr>\n",
              "      <th>417</th>\n",
              "      <td>1</td>\n",
              "      <td>3</td>\n",
              "      <td>5065</td>\n",
              "      <td>5499</td>\n",
              "      <td>11055</td>\n",
              "      <td>364</td>\n",
              "      <td>3485</td>\n",
              "      <td>1063</td>\n",
              "    </tr>\n",
              "    <tr>\n",
              "      <th>418</th>\n",
              "      <td>2</td>\n",
              "      <td>3</td>\n",
              "      <td>660</td>\n",
              "      <td>8494</td>\n",
              "      <td>18622</td>\n",
              "      <td>133</td>\n",
              "      <td>6740</td>\n",
              "      <td>776</td>\n",
              "    </tr>\n",
              "    <tr>\n",
              "      <th>419</th>\n",
              "      <td>1</td>\n",
              "      <td>3</td>\n",
              "      <td>8861</td>\n",
              "      <td>3783</td>\n",
              "      <td>2223</td>\n",
              "      <td>633</td>\n",
              "      <td>1580</td>\n",
              "      <td>1521</td>\n",
              "    </tr>\n",
              "    <tr>\n",
              "      <th>420</th>\n",
              "      <td>1</td>\n",
              "      <td>3</td>\n",
              "      <td>4456</td>\n",
              "      <td>5266</td>\n",
              "      <td>13227</td>\n",
              "      <td>25</td>\n",
              "      <td>6818</td>\n",
              "      <td>1393</td>\n",
              "    </tr>\n",
              "    <tr>\n",
              "      <th>421</th>\n",
              "      <td>2</td>\n",
              "      <td>3</td>\n",
              "      <td>17063</td>\n",
              "      <td>4847</td>\n",
              "      <td>9053</td>\n",
              "      <td>1031</td>\n",
              "      <td>3415</td>\n",
              "      <td>1784</td>\n",
              "    </tr>\n",
              "    <tr>\n",
              "      <th>422</th>\n",
              "      <td>1</td>\n",
              "      <td>3</td>\n",
              "      <td>26400</td>\n",
              "      <td>1377</td>\n",
              "      <td>4172</td>\n",
              "      <td>830</td>\n",
              "      <td>948</td>\n",
              "      <td>1218</td>\n",
              "    </tr>\n",
              "    <tr>\n",
              "      <th>423</th>\n",
              "      <td>2</td>\n",
              "      <td>3</td>\n",
              "      <td>17565</td>\n",
              "      <td>3686</td>\n",
              "      <td>4657</td>\n",
              "      <td>1059</td>\n",
              "      <td>1803</td>\n",
              "      <td>668</td>\n",
              "    </tr>\n",
              "    <tr>\n",
              "      <th>424</th>\n",
              "      <td>2</td>\n",
              "      <td>3</td>\n",
              "      <td>16980</td>\n",
              "      <td>2884</td>\n",
              "      <td>12232</td>\n",
              "      <td>874</td>\n",
              "      <td>3213</td>\n",
              "      <td>249</td>\n",
              "    </tr>\n",
              "    <tr>\n",
              "      <th>425</th>\n",
              "      <td>1</td>\n",
              "      <td>3</td>\n",
              "      <td>11243</td>\n",
              "      <td>2408</td>\n",
              "      <td>2593</td>\n",
              "      <td>15348</td>\n",
              "      <td>108</td>\n",
              "      <td>1886</td>\n",
              "    </tr>\n",
              "    <tr>\n",
              "      <th>426</th>\n",
              "      <td>1</td>\n",
              "      <td>3</td>\n",
              "      <td>13134</td>\n",
              "      <td>9347</td>\n",
              "      <td>14316</td>\n",
              "      <td>3141</td>\n",
              "      <td>5079</td>\n",
              "      <td>1894</td>\n",
              "    </tr>\n",
              "    <tr>\n",
              "      <th>427</th>\n",
              "      <td>1</td>\n",
              "      <td>3</td>\n",
              "      <td>31012</td>\n",
              "      <td>16687</td>\n",
              "      <td>5429</td>\n",
              "      <td>15082</td>\n",
              "      <td>439</td>\n",
              "      <td>1163</td>\n",
              "    </tr>\n",
              "    <tr>\n",
              "      <th>428</th>\n",
              "      <td>1</td>\n",
              "      <td>3</td>\n",
              "      <td>3047</td>\n",
              "      <td>5970</td>\n",
              "      <td>4910</td>\n",
              "      <td>2198</td>\n",
              "      <td>850</td>\n",
              "      <td>317</td>\n",
              "    </tr>\n",
              "    <tr>\n",
              "      <th>429</th>\n",
              "      <td>1</td>\n",
              "      <td>3</td>\n",
              "      <td>8607</td>\n",
              "      <td>1750</td>\n",
              "      <td>3580</td>\n",
              "      <td>47</td>\n",
              "      <td>84</td>\n",
              "      <td>2501</td>\n",
              "    </tr>\n",
              "    <tr>\n",
              "      <th>430</th>\n",
              "      <td>1</td>\n",
              "      <td>3</td>\n",
              "      <td>3097</td>\n",
              "      <td>4230</td>\n",
              "      <td>16483</td>\n",
              "      <td>575</td>\n",
              "      <td>241</td>\n",
              "      <td>2080</td>\n",
              "    </tr>\n",
              "    <tr>\n",
              "      <th>431</th>\n",
              "      <td>1</td>\n",
              "      <td>3</td>\n",
              "      <td>8533</td>\n",
              "      <td>5506</td>\n",
              "      <td>5160</td>\n",
              "      <td>13486</td>\n",
              "      <td>1377</td>\n",
              "      <td>1498</td>\n",
              "    </tr>\n",
              "    <tr>\n",
              "      <th>432</th>\n",
              "      <td>1</td>\n",
              "      <td>3</td>\n",
              "      <td>21117</td>\n",
              "      <td>1162</td>\n",
              "      <td>4754</td>\n",
              "      <td>269</td>\n",
              "      <td>1328</td>\n",
              "      <td>395</td>\n",
              "    </tr>\n",
              "    <tr>\n",
              "      <th>433</th>\n",
              "      <td>1</td>\n",
              "      <td>3</td>\n",
              "      <td>1982</td>\n",
              "      <td>3218</td>\n",
              "      <td>1493</td>\n",
              "      <td>1541</td>\n",
              "      <td>356</td>\n",
              "      <td>1449</td>\n",
              "    </tr>\n",
              "    <tr>\n",
              "      <th>434</th>\n",
              "      <td>1</td>\n",
              "      <td>3</td>\n",
              "      <td>16731</td>\n",
              "      <td>3922</td>\n",
              "      <td>7994</td>\n",
              "      <td>688</td>\n",
              "      <td>2371</td>\n",
              "      <td>838</td>\n",
              "    </tr>\n",
              "    <tr>\n",
              "      <th>435</th>\n",
              "      <td>1</td>\n",
              "      <td>3</td>\n",
              "      <td>29703</td>\n",
              "      <td>12051</td>\n",
              "      <td>16027</td>\n",
              "      <td>13135</td>\n",
              "      <td>182</td>\n",
              "      <td>2204</td>\n",
              "    </tr>\n",
              "    <tr>\n",
              "      <th>436</th>\n",
              "      <td>1</td>\n",
              "      <td>3</td>\n",
              "      <td>39228</td>\n",
              "      <td>1431</td>\n",
              "      <td>764</td>\n",
              "      <td>4510</td>\n",
              "      <td>93</td>\n",
              "      <td>2346</td>\n",
              "    </tr>\n",
              "    <tr>\n",
              "      <th>437</th>\n",
              "      <td>2</td>\n",
              "      <td>3</td>\n",
              "      <td>14531</td>\n",
              "      <td>15488</td>\n",
              "      <td>30243</td>\n",
              "      <td>437</td>\n",
              "      <td>14841</td>\n",
              "      <td>1867</td>\n",
              "    </tr>\n",
              "    <tr>\n",
              "      <th>438</th>\n",
              "      <td>1</td>\n",
              "      <td>3</td>\n",
              "      <td>10290</td>\n",
              "      <td>1981</td>\n",
              "      <td>2232</td>\n",
              "      <td>1038</td>\n",
              "      <td>168</td>\n",
              "      <td>2125</td>\n",
              "    </tr>\n",
              "    <tr>\n",
              "      <th>439</th>\n",
              "      <td>1</td>\n",
              "      <td>3</td>\n",
              "      <td>2787</td>\n",
              "      <td>1698</td>\n",
              "      <td>2510</td>\n",
              "      <td>65</td>\n",
              "      <td>477</td>\n",
              "      <td>52</td>\n",
              "    </tr>\n",
              "  </tbody>\n",
              "</table>\n",
              "<p>440 rows × 8 columns</p>\n",
              "</div>"
            ],
            "text/plain": [
              "     Channel  Region  Fresh   Milk  Grocery  Frozen  Detergents_Paper  \\\n",
              "0          2       3  12669   9656     7561     214              2674   \n",
              "1          2       3   7057   9810     9568    1762              3293   \n",
              "2          2       3   6353   8808     7684    2405              3516   \n",
              "3          1       3  13265   1196     4221    6404               507   \n",
              "4          2       3  22615   5410     7198    3915              1777   \n",
              "5          2       3   9413   8259     5126     666              1795   \n",
              "6          2       3  12126   3199     6975     480              3140   \n",
              "7          2       3   7579   4956     9426    1669              3321   \n",
              "8          1       3   5963   3648     6192     425              1716   \n",
              "9          2       3   6006  11093    18881    1159              7425   \n",
              "10         2       3   3366   5403    12974    4400              5977   \n",
              "11         2       3  13146   1124     4523    1420               549   \n",
              "12         2       3  31714  12319    11757     287              3881   \n",
              "13         2       3  21217   6208    14982    3095              6707   \n",
              "14         2       3  24653   9465    12091     294              5058   \n",
              "15         1       3  10253   1114     3821     397               964   \n",
              "16         2       3   1020   8816    12121     134              4508   \n",
              "17         1       3   5876   6157     2933     839               370   \n",
              "18         2       3  18601   6327    10099    2205              2767   \n",
              "19         1       3   7780   2495     9464     669              2518   \n",
              "20         2       3  17546   4519     4602    1066              2259   \n",
              "21         1       3   5567    871     2010    3383               375   \n",
              "22         1       3  31276   1917     4469    9408              2381   \n",
              "23         2       3  26373  36423    22019    5154              4337   \n",
              "24         2       3  22647   9776    13792    2915              4482   \n",
              "25         2       3  16165   4230     7595     201              4003   \n",
              "26         1       3   9898    961     2861    3151               242   \n",
              "27         1       3  14276    803     3045     485               100   \n",
              "28         2       3   4113  20484    25957    1158              8604   \n",
              "29         1       3  43088   2100     2609    1200              1107   \n",
              "..       ...     ...    ...    ...      ...     ...               ...   \n",
              "410        1       3   6633   2096     4563    1389              1860   \n",
              "411        1       3   2126   3289     3281    1535               235   \n",
              "412        1       3     97   3605    12400      98              2970   \n",
              "413        1       3   4983   4859     6633   17866               912   \n",
              "414        1       3   5969   1990     3417    5679              1135   \n",
              "415        2       3   7842   6046     8552    1691              3540   \n",
              "416        2       3   4389  10940    10908     848              6728   \n",
              "417        1       3   5065   5499    11055     364              3485   \n",
              "418        2       3    660   8494    18622     133              6740   \n",
              "419        1       3   8861   3783     2223     633              1580   \n",
              "420        1       3   4456   5266    13227      25              6818   \n",
              "421        2       3  17063   4847     9053    1031              3415   \n",
              "422        1       3  26400   1377     4172     830               948   \n",
              "423        2       3  17565   3686     4657    1059              1803   \n",
              "424        2       3  16980   2884    12232     874              3213   \n",
              "425        1       3  11243   2408     2593   15348               108   \n",
              "426        1       3  13134   9347    14316    3141              5079   \n",
              "427        1       3  31012  16687     5429   15082               439   \n",
              "428        1       3   3047   5970     4910    2198               850   \n",
              "429        1       3   8607   1750     3580      47                84   \n",
              "430        1       3   3097   4230    16483     575               241   \n",
              "431        1       3   8533   5506     5160   13486              1377   \n",
              "432        1       3  21117   1162     4754     269              1328   \n",
              "433        1       3   1982   3218     1493    1541               356   \n",
              "434        1       3  16731   3922     7994     688              2371   \n",
              "435        1       3  29703  12051    16027   13135               182   \n",
              "436        1       3  39228   1431      764    4510                93   \n",
              "437        2       3  14531  15488    30243     437             14841   \n",
              "438        1       3  10290   1981     2232    1038               168   \n",
              "439        1       3   2787   1698     2510      65               477   \n",
              "\n",
              "     Delicassen  \n",
              "0          1338  \n",
              "1          1776  \n",
              "2          7844  \n",
              "3          1788  \n",
              "4          5185  \n",
              "5          1451  \n",
              "6           545  \n",
              "7          2566  \n",
              "8           750  \n",
              "9          2098  \n",
              "10         1744  \n",
              "11          497  \n",
              "12         2931  \n",
              "13          602  \n",
              "14         2168  \n",
              "15          412  \n",
              "16         1080  \n",
              "17         4478  \n",
              "18         3181  \n",
              "19          501  \n",
              "20         2124  \n",
              "21          569  \n",
              "22         4334  \n",
              "23        16523  \n",
              "24         5778  \n",
              "25           57  \n",
              "26          833  \n",
              "27          518  \n",
              "28         5206  \n",
              "29          823  \n",
              "..          ...  \n",
              "410        1892  \n",
              "411        4365  \n",
              "412          62  \n",
              "413        2435  \n",
              "414         290  \n",
              "415        1874  \n",
              "416         993  \n",
              "417        1063  \n",
              "418         776  \n",
              "419        1521  \n",
              "420        1393  \n",
              "421        1784  \n",
              "422        1218  \n",
              "423         668  \n",
              "424         249  \n",
              "425        1886  \n",
              "426        1894  \n",
              "427        1163  \n",
              "428         317  \n",
              "429        2501  \n",
              "430        2080  \n",
              "431        1498  \n",
              "432         395  \n",
              "433        1449  \n",
              "434         838  \n",
              "435        2204  \n",
              "436        2346  \n",
              "437        1867  \n",
              "438        2125  \n",
              "439          52  \n",
              "\n",
              "[440 rows x 8 columns]"
            ]
          },
          "metadata": {
            "tags": []
          },
          "execution_count": 15
        }
      ]
    },
    {
      "cell_type": "code",
      "metadata": {
        "id": "I0EW_v7ZvwvZ",
        "colab_type": "code",
        "outputId": "805b23d8-0244-4dbd-851a-f0f49ffe0293",
        "colab": {
          "base_uri": "https://localhost:8080/",
          "height": 70
        }
      },
      "source": [
        "pd.value_counts(data1['Channel'])"
      ],
      "execution_count": 0,
      "outputs": [
        {
          "output_type": "execute_result",
          "data": {
            "text/plain": [
              "1    298\n",
              "2    142\n",
              "Name: Channel, dtype: int64"
            ]
          },
          "metadata": {
            "tags": []
          },
          "execution_count": 10
        }
      ]
    },
    {
      "cell_type": "code",
      "metadata": {
        "id": "eEfq2QP1w5k-",
        "colab_type": "code",
        "outputId": "5dabc9a2-6693-4e94-c409-c787571e047e",
        "colab": {
          "base_uri": "https://localhost:8080/",
          "height": 70
        }
      },
      "source": [
        "pd.value_counts(data1['Channel'])/len(data1['Channel'])"
      ],
      "execution_count": 0,
      "outputs": [
        {
          "output_type": "execute_result",
          "data": {
            "text/plain": [
              "1    0.677273\n",
              "2    0.322727\n",
              "Name: Channel, dtype: float64"
            ]
          },
          "metadata": {
            "tags": []
          },
          "execution_count": 11
        }
      ]
    },
    {
      "cell_type": "code",
      "metadata": {
        "id": "0Zgc5ptFwMZ-",
        "colab_type": "code",
        "outputId": "e2caa701-b0cf-4cbc-eca2-0379d50e52f1",
        "colab": {
          "base_uri": "https://localhost:8080/",
          "height": 87
        }
      },
      "source": [
        "pd.value_counts(data1['Region'])"
      ],
      "execution_count": 0,
      "outputs": [
        {
          "output_type": "execute_result",
          "data": {
            "text/plain": [
              "3    316\n",
              "1     77\n",
              "2     47\n",
              "Name: Region, dtype: int64"
            ]
          },
          "metadata": {
            "tags": []
          },
          "execution_count": 12
        }
      ]
    },
    {
      "cell_type": "code",
      "metadata": {
        "id": "eIi8lJETw-Ob",
        "colab_type": "code",
        "outputId": "2626cc06-0c2d-48fd-eaca-c5bda23d7509",
        "colab": {
          "base_uri": "https://localhost:8080/",
          "height": 87
        }
      },
      "source": [
        "pd.value_counts(data1['Region'])/len(data1['Region'])"
      ],
      "execution_count": 0,
      "outputs": [
        {
          "output_type": "execute_result",
          "data": {
            "text/plain": [
              "3    0.718182\n",
              "1    0.175000\n",
              "2    0.106818\n",
              "Name: Region, dtype: float64"
            ]
          },
          "metadata": {
            "tags": []
          },
          "execution_count": 13
        }
      ]
    },
    {
      "cell_type": "code",
      "metadata": {
        "id": "3OmCJrLQxPSb",
        "colab_type": "code",
        "outputId": "3a121717-479a-47a9-bd00-a2835cce9720",
        "colab": {
          "base_uri": "https://localhost:8080/",
          "height": 167
        }
      },
      "source": [
        "pd.crosstab(index=data1['Channel'],       \n",
        "            columns=data1['Region'], margins=True)"
      ],
      "execution_count": 0,
      "outputs": [
        {
          "output_type": "execute_result",
          "data": {
            "text/html": [
              "<div>\n",
              "<style scoped>\n",
              "    .dataframe tbody tr th:only-of-type {\n",
              "        vertical-align: middle;\n",
              "    }\n",
              "\n",
              "    .dataframe tbody tr th {\n",
              "        vertical-align: top;\n",
              "    }\n",
              "\n",
              "    .dataframe thead th {\n",
              "        text-align: right;\n",
              "    }\n",
              "</style>\n",
              "<table border=\"1\" class=\"dataframe\">\n",
              "  <thead>\n",
              "    <tr style=\"text-align: right;\">\n",
              "      <th>Region</th>\n",
              "      <th>1</th>\n",
              "      <th>2</th>\n",
              "      <th>3</th>\n",
              "      <th>All</th>\n",
              "    </tr>\n",
              "    <tr>\n",
              "      <th>Channel</th>\n",
              "      <th></th>\n",
              "      <th></th>\n",
              "      <th></th>\n",
              "      <th></th>\n",
              "    </tr>\n",
              "  </thead>\n",
              "  <tbody>\n",
              "    <tr>\n",
              "      <th>1</th>\n",
              "      <td>59</td>\n",
              "      <td>28</td>\n",
              "      <td>211</td>\n",
              "      <td>298</td>\n",
              "    </tr>\n",
              "    <tr>\n",
              "      <th>2</th>\n",
              "      <td>18</td>\n",
              "      <td>19</td>\n",
              "      <td>105</td>\n",
              "      <td>142</td>\n",
              "    </tr>\n",
              "    <tr>\n",
              "      <th>All</th>\n",
              "      <td>77</td>\n",
              "      <td>47</td>\n",
              "      <td>316</td>\n",
              "      <td>440</td>\n",
              "    </tr>\n",
              "  </tbody>\n",
              "</table>\n",
              "</div>"
            ],
            "text/plain": [
              "Region    1   2    3  All\n",
              "Channel                  \n",
              "1        59  28  211  298\n",
              "2        18  19  105  142\n",
              "All      77  47  316  440"
            ]
          },
          "metadata": {
            "tags": []
          },
          "execution_count": 14
        }
      ]
    },
    {
      "cell_type": "code",
      "metadata": {
        "id": "607RX5a6yyph",
        "colab_type": "code",
        "outputId": "14791efa-e3b5-4659-f657-d9c34bcd0927",
        "colab": {
          "base_uri": "https://localhost:8080/",
          "height": 440
        }
      },
      "source": [
        "data1.boxplot('Channel','Region',rot = 30,figsize=(5,6))"
      ],
      "execution_count": 0,
      "outputs": [
        {
          "output_type": "execute_result",
          "data": {
            "text/plain": [
              "<matplotlib.axes._subplots.AxesSubplot at 0x7f3c950f06a0>"
            ]
          },
          "metadata": {
            "tags": []
          },
          "execution_count": 15
        },
        {
          "output_type": "display_data",
          "data": {
            "image/png": "[encoded data removed]",
            "text/plain": [
              "<Figure size 360x432 with 1 Axes>"
            ]
          },
          "metadata": {
            "tags": []
          }
        }
      ]
    },
    {
      "cell_type": "code",
      "metadata": {
        "id": "tkn9gHNL4y7e",
        "colab_type": "code",
        "colab": {}
      },
      "source": [
        "data1 = pd.get_dummies(data1, columns=['Channel', 'Region', 'Fresh', 'Milk', 'Grocery', 'Frozen', 'Detergents_Paper', 'Delicassen'], drop_first=True)"
      ],
      "execution_count": 0,
      "outputs": []
    },
    {
      "cell_type": "markdown",
      "metadata": {
        "id": "14T6587_xIhW",
        "colab_type": "text"
      },
      "source": [
        "Estandarizar los datos nos ayuda a que todos los datos esten dentro de un mismo rango para poder hacer el modelo de la mejor manera y tambien ayuda a que los datos tengan mas relevancia entre si. Como tambien nos ayuda a que todo corra mas rapido"
      ]
    },
    {
      "cell_type": "code",
      "metadata": {
        "id": "-Dt6HO7tx11l",
        "colab_type": "code",
        "outputId": "a672f285-5664-46b7-c8a3-ffd8a5b6349e",
        "colab": {
          "base_uri": "https://localhost:8080/",
          "height": 4816
        }
      },
      "source": [
        "scaler = StandardScaler()\n",
        "scaled_data = scaler.fit_transform(data1)\n",
        "print(data1)\n",
        "print(scaled_data)"
      ],
      "execution_count": 0,
      "outputs": [
        {
          "output_type": "stream",
          "text": [
            "     Channel_2  Region_2  Region_3  Fresh_9  Fresh_18  Fresh_23  Fresh_37  \\\n",
            "0            1         0         1        0         0         0         0   \n",
            "1            1         0         1        0         0         0         0   \n",
            "2            1         0         1        0         0         0         0   \n",
            "3            0         0         1        0         0         0         0   \n",
            "4            1         0         1        0         0         0         0   \n",
            "5            1         0         1        0         0         0         0   \n",
            "6            1         0         1        0         0         0         0   \n",
            "7            1         0         1        0         0         0         0   \n",
            "8            0         0         1        0         0         0         0   \n",
            "9            1         0         1        0         0         0         0   \n",
            "10           1         0         1        0         0         0         0   \n",
            "11           1         0         1        0         0         0         0   \n",
            "12           1         0         1        0         0         0         0   \n",
            "13           1         0         1        0         0         0         0   \n",
            "14           1         0         1        0         0         0         0   \n",
            "15           0         0         1        0         0         0         0   \n",
            "16           1         0         1        0         0         0         0   \n",
            "17           0         0         1        0         0         0         0   \n",
            "18           1         0         1        0         0         0         0   \n",
            "19           0         0         1        0         0         0         0   \n",
            "20           1         0         1        0         0         0         0   \n",
            "21           0         0         1        0         0         0         0   \n",
            "22           0         0         1        0         0         0         0   \n",
            "23           1         0         1        0         0         0         0   \n",
            "24           1         0         1        0         0         0         0   \n",
            "25           1         0         1        0         0         0         0   \n",
            "26           0         0         1        0         0         0         0   \n",
            "27           0         0         1        0         0         0         0   \n",
            "28           1         0         1        0         0         0         0   \n",
            "29           0         0         1        0         0         0         0   \n",
            "..         ...       ...       ...      ...       ...       ...       ...   \n",
            "410          0         0         1        0         0         0         0   \n",
            "411          0         0         1        0         0         0         0   \n",
            "412          0         0         1        0         0         0         0   \n",
            "413          0         0         1        0         0         0         0   \n",
            "414          0         0         1        0         0         0         0   \n",
            "415          1         0         1        0         0         0         0   \n",
            "416          1         0         1        0         0         0         0   \n",
            "417          0         0         1        0         0         0         0   \n",
            "418          1         0         1        0         0         0         0   \n",
            "419          0         0         1        0         0         0         0   \n",
            "420          0         0         1        0         0         0         0   \n",
            "421          1         0         1        0         0         0         0   \n",
            "422          0         0         1        0         0         0         0   \n",
            "423          1         0         1        0         0         0         0   \n",
            "424          1         0         1        0         0         0         0   \n",
            "425          0         0         1        0         0         0         0   \n",
            "426          0         0         1        0         0         0         0   \n",
            "427          0         0         1        0         0         0         0   \n",
            "428          0         0         1        0         0         0         0   \n",
            "429          0         0         1        0         0         0         0   \n",
            "430          0         0         1        0         0         0         0   \n",
            "431          0         0         1        0         0         0         0   \n",
            "432          0         0         1        0         0         0         0   \n",
            "433          0         0         1        0         0         0         0   \n",
            "434          0         0         1        0         0         0         0   \n",
            "435          0         0         1        0         0         0         0   \n",
            "436          0         0         1        0         0         0         0   \n",
            "437          1         0         1        0         0         0         0   \n",
            "438          0         0         1        0         0         0         0   \n",
            "439          0         0         1        0         0         0         0   \n",
            "\n",
            "     Fresh_85  Fresh_97  Fresh_117  ...  Delicassen_6250  Delicassen_6372  \\\n",
            "0           0         0          0  ...                0                0   \n",
            "1           0         0          0  ...                0                0   \n",
            "2           0         0          0  ...                0                0   \n",
            "3           0         0          0  ...                0                0   \n",
            "4           0         0          0  ...                0                0   \n",
            "5           0         0          0  ...                0                0   \n",
            "6           0         0          0  ...                0                0   \n",
            "7           0         0          0  ...                0                0   \n",
            "8           0         0          0  ...                0                0   \n",
            "9           0         0          0  ...                0                0   \n",
            "10          0         0          0  ...                0                0   \n",
            "11          0         0          0  ...                0                0   \n",
            "12          0         0          0  ...                0                0   \n",
            "13          0         0          0  ...                0                0   \n",
            "14          0         0          0  ...                0                0   \n",
            "15          0         0          0  ...                0                0   \n",
            "16          0         0          0  ...                0                0   \n",
            "17          0         0          0  ...                0                0   \n",
            "18          0         0          0  ...                0                0   \n",
            "19          0         0          0  ...                0                0   \n",
            "20          0         0          0  ...                0                0   \n",
            "21          0         0          0  ...                0                0   \n",
            "22          0         0          0  ...                0                0   \n",
            "23          0         0          0  ...                0                0   \n",
            "24          0         0          0  ...                0                0   \n",
            "25          0         0          0  ...                0                0   \n",
            "26          0         0          0  ...                0                0   \n",
            "27          0         0          0  ...                0                0   \n",
            "28          0         0          0  ...                0                0   \n",
            "29          0         0          0  ...                0                0   \n",
            "..        ...       ...        ...  ...              ...              ...   \n",
            "410         0         0          0  ...                0                0   \n",
            "411         0         0          0  ...                0                0   \n",
            "412         0         1          0  ...                0                0   \n",
            "413         0         0          0  ...                0                0   \n",
            "414         0         0          0  ...                0                0   \n",
            "415         0         0          0  ...                0                0   \n",
            "416         0         0          0  ...                0                0   \n",
            "417         0         0          0  ...                0                0   \n",
            "418         0         0          0  ...                0                0   \n",
            "419         0         0          0  ...                0                0   \n",
            "420         0         0          0  ...                0                0   \n",
            "421         0         0          0  ...                0                0   \n",
            "422         0         0          0  ...                0                0   \n",
            "423         0         0          0  ...                0                0   \n",
            "424         0         0          0  ...                0                0   \n",
            "425         0         0          0  ...                0                0   \n",
            "426         0         0          0  ...                0                0   \n",
            "427         0         0          0  ...                0                0   \n",
            "428         0         0          0  ...                0                0   \n",
            "429         0         0          0  ...                0                0   \n",
            "430         0         0          0  ...                0                0   \n",
            "431         0         0          0  ...                0                0   \n",
            "432         0         0          0  ...                0                0   \n",
            "433         0         0          0  ...                0                0   \n",
            "434         0         0          0  ...                0                0   \n",
            "435         0         0          0  ...                0                0   \n",
            "436         0         0          0  ...                0                0   \n",
            "437         0         0          0  ...                0                0   \n",
            "438         0         0          0  ...                0                0   \n",
            "439         0         0          0  ...                0                0   \n",
            "\n",
            "     Delicassen_6465  Delicassen_6854  Delicassen_7844  Delicassen_8550  \\\n",
            "0                  0                0                0                0   \n",
            "1                  0                0                0                0   \n",
            "2                  0                0                1                0   \n",
            "3                  0                0                0                0   \n",
            "4                  0                0                0                0   \n",
            "5                  0                0                0                0   \n",
            "6                  0                0                0                0   \n",
            "7                  0                0                0                0   \n",
            "8                  0                0                0                0   \n",
            "9                  0                0                0                0   \n",
            "10                 0                0                0                0   \n",
            "11                 0                0                0                0   \n",
            "12                 0                0                0                0   \n",
            "13                 0                0                0                0   \n",
            "14                 0                0                0                0   \n",
            "15                 0                0                0                0   \n",
            "16                 0                0                0                0   \n",
            "17                 0                0                0                0   \n",
            "18                 0                0                0                0   \n",
            "19                 0                0                0                0   \n",
            "20                 0                0                0                0   \n",
            "21                 0                0                0                0   \n",
            "22                 0                0                0                0   \n",
            "23                 0                0                0                0   \n",
            "24                 0                0                0                0   \n",
            "25                 0                0                0                0   \n",
            "26                 0                0                0                0   \n",
            "27                 0                0                0                0   \n",
            "28                 0                0                0                0   \n",
            "29                 0                0                0                0   \n",
            "..               ...              ...              ...              ...   \n",
            "410                0                0                0                0   \n",
            "411                0                0                0                0   \n",
            "412                0                0                0                0   \n",
            "413                0                0                0                0   \n",
            "414                0                0                0                0   \n",
            "415                0                0                0                0   \n",
            "416                0                0                0                0   \n",
            "417                0                0                0                0   \n",
            "418                0                0                0                0   \n",
            "419                0                0                0                0   \n",
            "420                0                0                0                0   \n",
            "421                0                0                0                0   \n",
            "422                0                0                0                0   \n",
            "423                0                0                0                0   \n",
            "424                0                0                0                0   \n",
            "425                0                0                0                0   \n",
            "426                0                0                0                0   \n",
            "427                0                0                0                0   \n",
            "428                0                0                0                0   \n",
            "429                0                0                0                0   \n",
            "430                0                0                0                0   \n",
            "431                0                0                0                0   \n",
            "432                0                0                0                0   \n",
            "433                0                0                0                0   \n",
            "434                0                0                0                0   \n",
            "435                0                0                0                0   \n",
            "436                0                0                0                0   \n",
            "437                0                0                0                0   \n",
            "438                0                0                0                0   \n",
            "439                0                0                0                0   \n",
            "\n",
            "     Delicassen_14351  Delicassen_14472  Delicassen_16523  Delicassen_47943  \n",
            "0                   0                 0                 0                 0  \n",
            "1                   0                 0                 0                 0  \n",
            "2                   0                 0                 0                 0  \n",
            "3                   0                 0                 0                 0  \n",
            "4                   0                 0                 0                 0  \n",
            "5                   0                 0                 0                 0  \n",
            "6                   0                 0                 0                 0  \n",
            "7                   0                 0                 0                 0  \n",
            "8                   0                 0                 0                 0  \n",
            "9                   0                 0                 0                 0  \n",
            "10                  0                 0                 0                 0  \n",
            "11                  0                 0                 0                 0  \n",
            "12                  0                 0                 0                 0  \n",
            "13                  0                 0                 0                 0  \n",
            "14                  0                 0                 0                 0  \n",
            "15                  0                 0                 0                 0  \n",
            "16                  0                 0                 0                 0  \n",
            "17                  0                 0                 0                 0  \n",
            "18                  0                 0                 0                 0  \n",
            "19                  0                 0                 0                 0  \n",
            "20                  0                 0                 0                 0  \n",
            "21                  0                 0                 0                 0  \n",
            "22                  0                 0                 0                 0  \n",
            "23                  0                 0                 1                 0  \n",
            "24                  0                 0                 0                 0  \n",
            "25                  0                 0                 0                 0  \n",
            "26                  0                 0                 0                 0  \n",
            "27                  0                 0                 0                 0  \n",
            "28                  0                 0                 0                 0  \n",
            "29                  0                 0                 0                 0  \n",
            "..                ...               ...               ...               ...  \n",
            "410                 0                 0                 0                 0  \n",
            "411                 0                 0                 0                 0  \n",
            "412                 0                 0                 0                 0  \n",
            "413                 0                 0                 0                 0  \n",
            "414                 0                 0                 0                 0  \n",
            "415                 0                 0                 0                 0  \n",
            "416                 0                 0                 0                 0  \n",
            "417                 0                 0                 0                 0  \n",
            "418                 0                 0                 0                 0  \n",
            "419                 0                 0                 0                 0  \n",
            "420                 0                 0                 0                 0  \n",
            "421                 0                 0                 0                 0  \n",
            "422                 0                 0                 0                 0  \n",
            "423                 0                 0                 0                 0  \n",
            "424                 0                 0                 0                 0  \n",
            "425                 0                 0                 0                 0  \n",
            "426                 0                 0                 0                 0  \n",
            "427                 0                 0                 0                 0  \n",
            "428                 0                 0                 0                 0  \n",
            "429                 0                 0                 0                 0  \n",
            "430                 0                 0                 0                 0  \n",
            "431                 0                 0                 0                 0  \n",
            "432                 0                 0                 0                 0  \n",
            "433                 0                 0                 0                 0  \n",
            "434                 0                 0                 0                 0  \n",
            "435                 0                 0                 0                 0  \n",
            "436                 0                 0                 0                 0  \n",
            "437                 0                 0                 0                 0  \n",
            "438                 0                 0                 0                 0  \n",
            "439                 0                 0                 0                 0  \n",
            "\n",
            "[440 rows x 2527 columns]\n",
            "[[ 1.44865163 -0.34582203  0.62642243 ... -0.0477274  -0.0477274\n",
            "  -0.0477274 ]\n",
            " [ 1.44865163 -0.34582203  0.62642243 ... -0.0477274  -0.0477274\n",
            "  -0.0477274 ]\n",
            " [ 1.44865163 -0.34582203  0.62642243 ... -0.0477274  -0.0477274\n",
            "  -0.0477274 ]\n",
            " ...\n",
            " [ 1.44865163 -0.34582203  0.62642243 ... -0.0477274  -0.0477274\n",
            "  -0.0477274 ]\n",
            " [-0.69029709 -0.34582203  0.62642243 ... -0.0477274  -0.0477274\n",
            "  -0.0477274 ]\n",
            " [-0.69029709 -0.34582203  0.62642243 ... -0.0477274  -0.0477274\n",
            "  -0.0477274 ]]\n"
          ],
          "name": "stdout"
        },
        {
          "output_type": "stream",
          "text": [
            "/usr/local/lib/python3.6/dist-packages/sklearn/preprocessing/data.py:645: DataConversionWarning: Data with input dtype uint8 were all converted to float64 by StandardScaler.\n",
            "  return self.partial_fit(X, y)\n",
            "/usr/local/lib/python3.6/dist-packages/sklearn/base.py:464: DataConversionWarning: Data with input dtype uint8 were all converted to float64 by StandardScaler.\n",
            "  return self.fit(X, **fit_params).transform(X)\n"
          ],
          "name": "stderr"
        }
      ]
    },
    {
      "cell_type": "code",
      "metadata": {
        "id": "IKrOf7jv2BBi",
        "colab_type": "code",
        "outputId": "3f41aa3a-fe1a-446b-8a16-c45ec14b809c",
        "colab": {
          "base_uri": "https://localhost:8080/",
          "height": 287
        }
      },
      "source": [
        "data1.corr()"
      ],
      "execution_count": 0,
      "outputs": [
        {
          "output_type": "execute_result",
          "data": {
            "text/html": [
              "<div>\n",
              "<style scoped>\n",
              "    .dataframe tbody tr th:only-of-type {\n",
              "        vertical-align: middle;\n",
              "    }\n",
              "\n",
              "    .dataframe tbody tr th {\n",
              "        vertical-align: top;\n",
              "    }\n",
              "\n",
              "    .dataframe thead th {\n",
              "        text-align: right;\n",
              "    }\n",
              "</style>\n",
              "<table border=\"1\" class=\"dataframe\">\n",
              "  <thead>\n",
              "    <tr style=\"text-align: right;\">\n",
              "      <th></th>\n",
              "      <th>Channel</th>\n",
              "      <th>Region</th>\n",
              "      <th>Fresh</th>\n",
              "      <th>Milk</th>\n",
              "      <th>Grocery</th>\n",
              "      <th>Frozen</th>\n",
              "      <th>Detergents_Paper</th>\n",
              "      <th>Delicassen</th>\n",
              "    </tr>\n",
              "  </thead>\n",
              "  <tbody>\n",
              "    <tr>\n",
              "      <th>Channel</th>\n",
              "      <td>1.000000</td>\n",
              "      <td>0.062028</td>\n",
              "      <td>-0.169172</td>\n",
              "      <td>0.460720</td>\n",
              "      <td>0.608792</td>\n",
              "      <td>-0.202046</td>\n",
              "      <td>0.636026</td>\n",
              "      <td>0.056011</td>\n",
              "    </tr>\n",
              "    <tr>\n",
              "      <th>Region</th>\n",
              "      <td>0.062028</td>\n",
              "      <td>1.000000</td>\n",
              "      <td>0.055287</td>\n",
              "      <td>0.032288</td>\n",
              "      <td>0.007696</td>\n",
              "      <td>-0.021044</td>\n",
              "      <td>-0.001483</td>\n",
              "      <td>0.045212</td>\n",
              "    </tr>\n",
              "    <tr>\n",
              "      <th>Fresh</th>\n",
              "      <td>-0.169172</td>\n",
              "      <td>0.055287</td>\n",
              "      <td>1.000000</td>\n",
              "      <td>0.100510</td>\n",
              "      <td>-0.011854</td>\n",
              "      <td>0.345881</td>\n",
              "      <td>-0.101953</td>\n",
              "      <td>0.244690</td>\n",
              "    </tr>\n",
              "    <tr>\n",
              "      <th>Milk</th>\n",
              "      <td>0.460720</td>\n",
              "      <td>0.032288</td>\n",
              "      <td>0.100510</td>\n",
              "      <td>1.000000</td>\n",
              "      <td>0.728335</td>\n",
              "      <td>0.123994</td>\n",
              "      <td>0.661816</td>\n",
              "      <td>0.406368</td>\n",
              "    </tr>\n",
              "    <tr>\n",
              "      <th>Grocery</th>\n",
              "      <td>0.608792</td>\n",
              "      <td>0.007696</td>\n",
              "      <td>-0.011854</td>\n",
              "      <td>0.728335</td>\n",
              "      <td>1.000000</td>\n",
              "      <td>-0.040193</td>\n",
              "      <td>0.924641</td>\n",
              "      <td>0.205497</td>\n",
              "    </tr>\n",
              "    <tr>\n",
              "      <th>Frozen</th>\n",
              "      <td>-0.202046</td>\n",
              "      <td>-0.021044</td>\n",
              "      <td>0.345881</td>\n",
              "      <td>0.123994</td>\n",
              "      <td>-0.040193</td>\n",
              "      <td>1.000000</td>\n",
              "      <td>-0.131525</td>\n",
              "      <td>0.390947</td>\n",
              "    </tr>\n",
              "    <tr>\n",
              "      <th>Detergents_Paper</th>\n",
              "      <td>0.636026</td>\n",
              "      <td>-0.001483</td>\n",
              "      <td>-0.101953</td>\n",
              "      <td>0.661816</td>\n",
              "      <td>0.924641</td>\n",
              "      <td>-0.131525</td>\n",
              "      <td>1.000000</td>\n",
              "      <td>0.069291</td>\n",
              "    </tr>\n",
              "    <tr>\n",
              "      <th>Delicassen</th>\n",
              "      <td>0.056011</td>\n",
              "      <td>0.045212</td>\n",
              "      <td>0.244690</td>\n",
              "      <td>0.406368</td>\n",
              "      <td>0.205497</td>\n",
              "      <td>0.390947</td>\n",
              "      <td>0.069291</td>\n",
              "      <td>1.000000</td>\n",
              "    </tr>\n",
              "  </tbody>\n",
              "</table>\n",
              "</div>"
            ],
            "text/plain": [
              "                   Channel    Region     Fresh      Milk   Grocery    Frozen  \\\n",
              "Channel           1.000000  0.062028 -0.169172  0.460720  0.608792 -0.202046   \n",
              "Region            0.062028  1.000000  0.055287  0.032288  0.007696 -0.021044   \n",
              "Fresh            -0.169172  0.055287  1.000000  0.100510 -0.011854  0.345881   \n",
              "Milk              0.460720  0.032288  0.100510  1.000000  0.728335  0.123994   \n",
              "Grocery           0.608792  0.007696 -0.011854  0.728335  1.000000 -0.040193   \n",
              "Frozen           -0.202046 -0.021044  0.345881  0.123994 -0.040193  1.000000   \n",
              "Detergents_Paper  0.636026 -0.001483 -0.101953  0.661816  0.924641 -0.131525   \n",
              "Delicassen        0.056011  0.045212  0.244690  0.406368  0.205497  0.390947   \n",
              "\n",
              "                  Detergents_Paper  Delicassen  \n",
              "Channel                   0.636026    0.056011  \n",
              "Region                   -0.001483    0.045212  \n",
              "Fresh                    -0.101953    0.244690  \n",
              "Milk                      0.661816    0.406368  \n",
              "Grocery                   0.924641    0.205497  \n",
              "Frozen                   -0.131525    0.390947  \n",
              "Detergents_Paper          1.000000    0.069291  \n",
              "Delicassen                0.069291    1.000000  "
            ]
          },
          "metadata": {
            "tags": []
          },
          "execution_count": 8
        }
      ]
    },
    {
      "cell_type": "code",
      "metadata": {
        "id": "Gad4bZ0n2wNm",
        "colab_type": "code",
        "colab": {}
      },
      "source": [
        "from pandas.plotting import scatter_matrix"
      ],
      "execution_count": 0,
      "outputs": []
    },
    {
      "cell_type": "code",
      "metadata": {
        "id": "QlOe_RSR2S6D",
        "colab_type": "code",
        "outputId": "ded5e9ff-9fc5-4b3b-a048-86c668afef38",
        "colab": {
          "base_uri": "https://localhost:8080/",
          "height": 1675
        }
      },
      "source": [
        "scatter_matrix(data1, alpha = 0.3, figsize = (14,8), diagonal = 'kde')"
      ],
      "execution_count": 0,
      "outputs": [
        {
          "output_type": "execute_result",
          "data": {
            "text/plain": [
              "array([[<matplotlib.axes._subplots.AxesSubplot object at 0x7fefae3a3240>,\n",
              "        <matplotlib.axes._subplots.AxesSubplot object at 0x7fefadf073c8>,\n",
              "        <matplotlib.axes._subplots.AxesSubplot object at 0x7fefadea5940>,\n",
              "        <matplotlib.axes._subplots.AxesSubplot object at 0x7fefaded0eb8>,\n",
              "        <matplotlib.axes._subplots.AxesSubplot object at 0x7fefade7e470>,\n",
              "        <matplotlib.axes._subplots.AxesSubplot object at 0x7fefade259e8>,\n",
              "        <matplotlib.axes._subplots.AxesSubplot object at 0x7fefade4df60>,\n",
              "        <matplotlib.axes._subplots.AxesSubplot object at 0x7fefaddfb550>],\n",
              "       [<matplotlib.axes._subplots.AxesSubplot object at 0x7fefaddfb588>,\n",
              "        <matplotlib.axes._subplots.AxesSubplot object at 0x7fefadd56048>,\n",
              "        <matplotlib.axes._subplots.AxesSubplot object at 0x7fefadd7d5c0>,\n",
              "        <matplotlib.axes._subplots.AxesSubplot object at 0x7fefadd24b38>,\n",
              "        <matplotlib.axes._subplots.AxesSubplot object at 0x7fefadcd50f0>,\n",
              "        <matplotlib.axes._subplots.AxesSubplot object at 0x7fefadcfb668>,\n",
              "        <matplotlib.axes._subplots.AxesSubplot object at 0x7fefadca1be0>,\n",
              "        <matplotlib.axes._subplots.AxesSubplot object at 0x7fefadcd4198>],\n",
              "       [<matplotlib.axes._subplots.AxesSubplot object at 0x7fefadc7a710>,\n",
              "        <matplotlib.axes._subplots.AxesSubplot object at 0x7fefadc22c88>,\n",
              "        <matplotlib.axes._subplots.AxesSubplot object at 0x7fefadc54240>,\n",
              "        <matplotlib.axes._subplots.AxesSubplot object at 0x7fefadbfa7b8>,\n",
              "        <matplotlib.axes._subplots.AxesSubplot object at 0x7fefadba3d30>,\n",
              "        <matplotlib.axes._subplots.AxesSubplot object at 0x7fefadbd32e8>,\n",
              "        <matplotlib.axes._subplots.AxesSubplot object at 0x7fefadb7a860>,\n",
              "        <matplotlib.axes._subplots.AxesSubplot object at 0x7fefadb21dd8>],\n",
              "       [<matplotlib.axes._subplots.AxesSubplot object at 0x7fefadb51390>,\n",
              "        <matplotlib.axes._subplots.AxesSubplot object at 0x7fefadaf9908>,\n",
              "        <matplotlib.axes._subplots.AxesSubplot object at 0x7fefadaa0e80>,\n",
              "        <matplotlib.axes._subplots.AxesSubplot object at 0x7fefadad1438>,\n",
              "        <matplotlib.axes._subplots.AxesSubplot object at 0x7fefada799b0>,\n",
              "        <matplotlib.axes._subplots.AxesSubplot object at 0x7fefada20f28>,\n",
              "        <matplotlib.axes._subplots.AxesSubplot object at 0x7fefada504e0>,\n",
              "        <matplotlib.axes._subplots.AxesSubplot object at 0x7fefad9f6a58>],\n",
              "       [<matplotlib.axes._subplots.AxesSubplot object at 0x7fefad9a0fd0>,\n",
              "        <matplotlib.axes._subplots.AxesSubplot object at 0x7fefad9cf588>,\n",
              "        <matplotlib.axes._subplots.AxesSubplot object at 0x7fefad977b00>,\n",
              "        <matplotlib.axes._subplots.AxesSubplot object at 0x7fefad9260b8>,\n",
              "        <matplotlib.axes._subplots.AxesSubplot object at 0x7fefad94f630>,\n",
              "        <matplotlib.axes._subplots.AxesSubplot object at 0x7fefad8f5ba8>,\n",
              "        <matplotlib.axes._subplots.AxesSubplot object at 0x7fefad8a6160>,\n",
              "        <matplotlib.axes._subplots.AxesSubplot object at 0x7fefad8cd6d8>],\n",
              "       [<matplotlib.axes._subplots.AxesSubplot object at 0x7fefad874c50>,\n",
              "        <matplotlib.axes._subplots.AxesSubplot object at 0x7fefad825208>,\n",
              "        <matplotlib.axes._subplots.AxesSubplot object at 0x7fefad84c780>,\n",
              "        <matplotlib.axes._subplots.AxesSubplot object at 0x7fefad7f4cf8>,\n",
              "        <matplotlib.axes._subplots.AxesSubplot object at 0x7fefad7a42b0>,\n",
              "        <matplotlib.axes._subplots.AxesSubplot object at 0x7fefad7cd828>,\n",
              "        <matplotlib.axes._subplots.AxesSubplot object at 0x7fefad774da0>,\n",
              "        <matplotlib.axes._subplots.AxesSubplot object at 0x7fefad725358>],\n",
              "       [<matplotlib.axes._subplots.AxesSubplot object at 0x7fefad74c8d0>,\n",
              "        <matplotlib.axes._subplots.AxesSubplot object at 0x7fefad6f3e48>,\n",
              "        <matplotlib.axes._subplots.AxesSubplot object at 0x7fefad6a3400>,\n",
              "        <matplotlib.axes._subplots.AxesSubplot object at 0x7fefad6c9978>,\n",
              "        <matplotlib.axes._subplots.AxesSubplot object at 0x7fefad672ef0>,\n",
              "        <matplotlib.axes._subplots.AxesSubplot object at 0x7fefad6214a8>,\n",
              "        <matplotlib.axes._subplots.AxesSubplot object at 0x7fefad649a20>,\n",
              "        <matplotlib.axes._subplots.AxesSubplot object at 0x7fefad5f3f98>],\n",
              "       [<matplotlib.axes._subplots.AxesSubplot object at 0x7fefad5a1550>,\n",
              "        <matplotlib.axes._subplots.AxesSubplot object at 0x7fefad5c8ac8>,\n",
              "        <matplotlib.axes._subplots.AxesSubplot object at 0x7fefad57b080>,\n",
              "        <matplotlib.axes._subplots.AxesSubplot object at 0x7fefad51f5f8>,\n",
              "        <matplotlib.axes._subplots.AxesSubplot object at 0x7fefad546b70>,\n",
              "        <matplotlib.axes._subplots.AxesSubplot object at 0x7fefad4f9128>,\n",
              "        <matplotlib.axes._subplots.AxesSubplot object at 0x7fefad49f6a0>,\n",
              "        <matplotlib.axes._subplots.AxesSubplot object at 0x7fefad4c7c18>]],\n",
              "      dtype=object)"
            ]
          },
          "metadata": {
            "tags": []
          },
          "execution_count": 10
        },
        {
          "output_type": "display_data",
          "data": {
            "image/png": "[encoded data removed]",
            "text/plain": [
              "<Figure size 1008x576 with 64 Axes>"
            ]
          },
          "metadata": {
            "tags": []
          }
        }
      ]
    },
    {
      "cell_type": "code",
      "metadata": {
        "id": "xGeM5Z6NhSS8",
        "colab_type": "code",
        "colab": {}
      },
      "source": [
        "import seaborn as sns"
      ],
      "execution_count": 0,
      "outputs": []
    },
    {
      "cell_type": "code",
      "metadata": {
        "id": "5n91GfAd3-T0",
        "colab_type": "code",
        "outputId": "45f5c395-fd5a-4e1f-f12f-fdc731f75a42",
        "colab": {
          "base_uri": "https://localhost:8080/",
          "height": 366
        }
      },
      "source": [
        "sns.heatmap(data1.corr(), annot=True)"
      ],
      "execution_count": 0,
      "outputs": [
        {
          "output_type": "execute_result",
          "data": {
            "text/plain": [
              "<matplotlib.axes._subplots.AxesSubplot at 0x7fefa80737b8>"
            ]
          },
          "metadata": {
            "tags": []
          },
          "execution_count": 12
        },
        {
          "output_type": "display_data",
          "data": {
            "image/png": "[encoded data removed]",
            "text/plain": [
              "<Figure size 432x288 with 2 Axes>"
            ]
          },
          "metadata": {
            "tags": []
          }
        }
      ]
    },
    {
      "cell_type": "code",
      "metadata": {
        "id": "KiKAueMOsSU0",
        "colab_type": "code",
        "outputId": "70b325a7-a36d-42ca-d68c-3b917fc29785",
        "colab": {
          "base_uri": "https://localhost:8080/",
          "height": 34
        }
      },
      "source": [
        "data1[\"Region\"].size"
      ],
      "execution_count": 0,
      "outputs": [
        {
          "output_type": "execute_result",
          "data": {
            "text/plain": [
              "440"
            ]
          },
          "metadata": {
            "tags": []
          },
          "execution_count": 19
        }
      ]
    },
    {
      "cell_type": "code",
      "metadata": {
        "id": "Jm7J-5EDjTTZ",
        "colab_type": "code",
        "outputId": "259afb3d-a4b6-4d1a-eb34-751346421aeb",
        "colab": {
          "base_uri": "https://localhost:8080/",
          "height": 370
        }
      },
      "source": [
        "from sklearn.datasets.samples_generator import make_blobs\n",
        "data1[\"Channel\"], data1[\"Region\"] = make_blobs(n_samples=500, centers=2,\n",
        "                       cluster_std=0.04, random_state=0)\n",
        "plt.scatter(X[:, 0], X[:, 1], s=50)"
      ],
      "execution_count": 0,
      "outputs": [
        {
          "output_type": "error",
          "ename": "ValueError",
          "evalue": "ignored",
          "traceback": [
            "\u001b[0;31m---------------------------------------------------------------------------\u001b[0m",
            "\u001b[0;31mValueError\u001b[0m                                Traceback (most recent call last)",
            "\u001b[0;32m<ipython-input-36-5a8ce82ab73e>\u001b[0m in \u001b[0;36m<module>\u001b[0;34m()\u001b[0m\n\u001b[1;32m      1\u001b[0m \u001b[0;32mfrom\u001b[0m \u001b[0msklearn\u001b[0m\u001b[0;34m.\u001b[0m\u001b[0mdatasets\u001b[0m\u001b[0;34m.\u001b[0m\u001b[0msamples_generator\u001b[0m \u001b[0;32mimport\u001b[0m \u001b[0mmake_blobs\u001b[0m\u001b[0;34m\u001b[0m\u001b[0;34m\u001b[0m\u001b[0m\n\u001b[1;32m      2\u001b[0m data1[\"Channel\"], data1[\"Region\"] = make_blobs(n_samples=500, centers=2,\n\u001b[0;32m----> 3\u001b[0;31m                        cluster_std=0.04, random_state=0)\n\u001b[0m\u001b[1;32m      4\u001b[0m \u001b[0mplt\u001b[0m\u001b[0;34m.\u001b[0m\u001b[0mscatter\u001b[0m\u001b[0;34m(\u001b[0m\u001b[0mX\u001b[0m\u001b[0;34m[\u001b[0m\u001b[0;34m:\u001b[0m\u001b[0;34m,\u001b[0m \u001b[0;36m0\u001b[0m\u001b[0;34m]\u001b[0m\u001b[0;34m,\u001b[0m \u001b[0mX\u001b[0m\u001b[0;34m[\u001b[0m\u001b[0;34m:\u001b[0m\u001b[0;34m,\u001b[0m \u001b[0;36m1\u001b[0m\u001b[0;34m]\u001b[0m\u001b[0;34m,\u001b[0m \u001b[0ms\u001b[0m\u001b[0;34m=\u001b[0m\u001b[0;36m50\u001b[0m\u001b[0;34m)\u001b[0m\u001b[0;34m\u001b[0m\u001b[0;34m\u001b[0m\u001b[0m\n",
            "\u001b[0;32m/usr/local/lib/python3.6/dist-packages/pandas/core/frame.py\u001b[0m in \u001b[0;36m__setitem__\u001b[0;34m(self, key, value)\u001b[0m\n\u001b[1;32m   3368\u001b[0m         \u001b[0;32melse\u001b[0m\u001b[0;34m:\u001b[0m\u001b[0;34m\u001b[0m\u001b[0;34m\u001b[0m\u001b[0m\n\u001b[1;32m   3369\u001b[0m             \u001b[0;31m# set column\u001b[0m\u001b[0;34m\u001b[0m\u001b[0;34m\u001b[0m\u001b[0;34m\u001b[0m\u001b[0m\n\u001b[0;32m-> 3370\u001b[0;31m             \u001b[0mself\u001b[0m\u001b[0;34m.\u001b[0m\u001b[0m_set_item\u001b[0m\u001b[0;34m(\u001b[0m\u001b[0mkey\u001b[0m\u001b[0;34m,\u001b[0m \u001b[0mvalue\u001b[0m\u001b[0;34m)\u001b[0m\u001b[0;34m\u001b[0m\u001b[0;34m\u001b[0m\u001b[0m\n\u001b[0m\u001b[1;32m   3371\u001b[0m \u001b[0;34m\u001b[0m\u001b[0m\n\u001b[1;32m   3372\u001b[0m     \u001b[0;32mdef\u001b[0m \u001b[0m_setitem_slice\u001b[0m\u001b[0;34m(\u001b[0m\u001b[0mself\u001b[0m\u001b[0;34m,\u001b[0m \u001b[0mkey\u001b[0m\u001b[0;34m,\u001b[0m \u001b[0mvalue\u001b[0m\u001b[0;34m)\u001b[0m\u001b[0;34m:\u001b[0m\u001b[0;34m\u001b[0m\u001b[0;34m\u001b[0m\u001b[0m\n",
            "\u001b[0;32m/usr/local/lib/python3.6/dist-packages/pandas/core/frame.py\u001b[0m in \u001b[0;36m_set_item\u001b[0;34m(self, key, value)\u001b[0m\n\u001b[1;32m   3443\u001b[0m \u001b[0;34m\u001b[0m\u001b[0m\n\u001b[1;32m   3444\u001b[0m         \u001b[0mself\u001b[0m\u001b[0;34m.\u001b[0m\u001b[0m_ensure_valid_index\u001b[0m\u001b[0;34m(\u001b[0m\u001b[0mvalue\u001b[0m\u001b[0;34m)\u001b[0m\u001b[0;34m\u001b[0m\u001b[0;34m\u001b[0m\u001b[0m\n\u001b[0;32m-> 3445\u001b[0;31m         \u001b[0mvalue\u001b[0m \u001b[0;34m=\u001b[0m \u001b[0mself\u001b[0m\u001b[0;34m.\u001b[0m\u001b[0m_sanitize_column\u001b[0m\u001b[0;34m(\u001b[0m\u001b[0mkey\u001b[0m\u001b[0;34m,\u001b[0m \u001b[0mvalue\u001b[0m\u001b[0;34m)\u001b[0m\u001b[0;34m\u001b[0m\u001b[0;34m\u001b[0m\u001b[0m\n\u001b[0m\u001b[1;32m   3446\u001b[0m         \u001b[0mNDFrame\u001b[0m\u001b[0;34m.\u001b[0m\u001b[0m_set_item\u001b[0m\u001b[0;34m(\u001b[0m\u001b[0mself\u001b[0m\u001b[0;34m,\u001b[0m \u001b[0mkey\u001b[0m\u001b[0;34m,\u001b[0m \u001b[0mvalue\u001b[0m\u001b[0;34m)\u001b[0m\u001b[0;34m\u001b[0m\u001b[0;34m\u001b[0m\u001b[0m\n\u001b[1;32m   3447\u001b[0m \u001b[0;34m\u001b[0m\u001b[0m\n",
            "\u001b[0;32m/usr/local/lib/python3.6/dist-packages/pandas/core/frame.py\u001b[0m in \u001b[0;36m_sanitize_column\u001b[0;34m(self, key, value, broadcast)\u001b[0m\n\u001b[1;32m   3628\u001b[0m \u001b[0;34m\u001b[0m\u001b[0m\n\u001b[1;32m   3629\u001b[0m             \u001b[0;31m# turn me into an ndarray\u001b[0m\u001b[0;34m\u001b[0m\u001b[0;34m\u001b[0m\u001b[0;34m\u001b[0m\u001b[0m\n\u001b[0;32m-> 3630\u001b[0;31m             \u001b[0mvalue\u001b[0m \u001b[0;34m=\u001b[0m \u001b[0msanitize_index\u001b[0m\u001b[0;34m(\u001b[0m\u001b[0mvalue\u001b[0m\u001b[0;34m,\u001b[0m \u001b[0mself\u001b[0m\u001b[0;34m.\u001b[0m\u001b[0mindex\u001b[0m\u001b[0;34m,\u001b[0m \u001b[0mcopy\u001b[0m\u001b[0;34m=\u001b[0m\u001b[0;32mFalse\u001b[0m\u001b[0;34m)\u001b[0m\u001b[0;34m\u001b[0m\u001b[0;34m\u001b[0m\u001b[0m\n\u001b[0m\u001b[1;32m   3631\u001b[0m             \u001b[0;32mif\u001b[0m \u001b[0;32mnot\u001b[0m \u001b[0misinstance\u001b[0m\u001b[0;34m(\u001b[0m\u001b[0mvalue\u001b[0m\u001b[0;34m,\u001b[0m \u001b[0;34m(\u001b[0m\u001b[0mnp\u001b[0m\u001b[0;34m.\u001b[0m\u001b[0mndarray\u001b[0m\u001b[0;34m,\u001b[0m \u001b[0mIndex\u001b[0m\u001b[0;34m)\u001b[0m\u001b[0;34m)\u001b[0m\u001b[0;34m:\u001b[0m\u001b[0;34m\u001b[0m\u001b[0;34m\u001b[0m\u001b[0m\n\u001b[1;32m   3632\u001b[0m                 \u001b[0;32mif\u001b[0m \u001b[0misinstance\u001b[0m\u001b[0;34m(\u001b[0m\u001b[0mvalue\u001b[0m\u001b[0;34m,\u001b[0m \u001b[0mlist\u001b[0m\u001b[0;34m)\u001b[0m \u001b[0;32mand\u001b[0m \u001b[0mlen\u001b[0m\u001b[0;34m(\u001b[0m\u001b[0mvalue\u001b[0m\u001b[0;34m)\u001b[0m \u001b[0;34m>\u001b[0m \u001b[0;36m0\u001b[0m\u001b[0;34m:\u001b[0m\u001b[0;34m\u001b[0m\u001b[0;34m\u001b[0m\u001b[0m\n",
            "\u001b[0;32m/usr/local/lib/python3.6/dist-packages/pandas/core/internals/construction.py\u001b[0m in \u001b[0;36msanitize_index\u001b[0;34m(data, index, copy)\u001b[0m\n\u001b[1;32m    517\u001b[0m \u001b[0;34m\u001b[0m\u001b[0m\n\u001b[1;32m    518\u001b[0m     \u001b[0;32mif\u001b[0m \u001b[0mlen\u001b[0m\u001b[0;34m(\u001b[0m\u001b[0mdata\u001b[0m\u001b[0;34m)\u001b[0m \u001b[0;34m!=\u001b[0m \u001b[0mlen\u001b[0m\u001b[0;34m(\u001b[0m\u001b[0mindex\u001b[0m\u001b[0;34m)\u001b[0m\u001b[0;34m:\u001b[0m\u001b[0;34m\u001b[0m\u001b[0;34m\u001b[0m\u001b[0m\n\u001b[0;32m--> 519\u001b[0;31m         \u001b[0;32mraise\u001b[0m \u001b[0mValueError\u001b[0m\u001b[0;34m(\u001b[0m\u001b[0;34m'Length of values does not match length of index'\u001b[0m\u001b[0;34m)\u001b[0m\u001b[0;34m\u001b[0m\u001b[0;34m\u001b[0m\u001b[0m\n\u001b[0m\u001b[1;32m    520\u001b[0m \u001b[0;34m\u001b[0m\u001b[0m\n\u001b[1;32m    521\u001b[0m     \u001b[0;32mif\u001b[0m \u001b[0misinstance\u001b[0m\u001b[0;34m(\u001b[0m\u001b[0mdata\u001b[0m\u001b[0;34m,\u001b[0m \u001b[0mABCIndexClass\u001b[0m\u001b[0;34m)\u001b[0m \u001b[0;32mand\u001b[0m \u001b[0;32mnot\u001b[0m \u001b[0mcopy\u001b[0m\u001b[0;34m:\u001b[0m\u001b[0;34m\u001b[0m\u001b[0;34m\u001b[0m\u001b[0m\n",
            "\u001b[0;31mValueError\u001b[0m: Length of values does not match length of index"
          ]
        }
      ]
    },
    {
      "cell_type": "code",
      "metadata": {
        "id": "ATNNV4LRjeTp",
        "colab_type": "code",
        "colab": {}
      },
      "source": [
        "from sklearn.cluster import KMeans\n",
        "kmeans = KMeans(n_clusters=4)\n",
        "kmeans.fit(X)\n",
        "y_kmeans = kmeans.predict(X)"
      ],
      "execution_count": 0,
      "outputs": []
    },
    {
      "cell_type": "code",
      "metadata": {
        "id": "TRETZ8WxjlMW",
        "colab_type": "code",
        "outputId": "831d3b6c-db56-497d-8088-db4b7d8bc3da",
        "colab": {
          "base_uri": "https://localhost:8080/",
          "height": 221
        }
      },
      "source": [
        "plt.scatter(X[:, 0], X[:, 1], c=y_kmeans, s=50, cmap='viridis')\n",
        "\n",
        "centers = kmeans.cluster_centers_\n",
        "plt.scatter(centers[:, 0], centers[:, 1], c='black', s=200, alpha=0.5);"
      ],
      "execution_count": 0,
      "outputs": [
        {
          "output_type": "error",
          "ename": "NameError",
          "evalue": "ignored",
          "traceback": [
            "\u001b[0;31m---------------------------------------------------------------------------\u001b[0m",
            "\u001b[0;31mNameError\u001b[0m                                 Traceback (most recent call last)",
            "\u001b[0;32m<ipython-input-41-a9b9784347cd>\u001b[0m in \u001b[0;36m<module>\u001b[0;34m()\u001b[0m\n\u001b[0;32m----> 1\u001b[0;31m \u001b[0mplt\u001b[0m\u001b[0;34m.\u001b[0m\u001b[0mscatter\u001b[0m\u001b[0;34m(\u001b[0m\u001b[0mX\u001b[0m\u001b[0;34m[\u001b[0m\u001b[0;34m:\u001b[0m\u001b[0;34m,\u001b[0m \u001b[0;36m0\u001b[0m\u001b[0;34m]\u001b[0m\u001b[0;34m,\u001b[0m \u001b[0mX\u001b[0m\u001b[0;34m[\u001b[0m\u001b[0;34m:\u001b[0m\u001b[0;34m,\u001b[0m \u001b[0;36m1\u001b[0m\u001b[0;34m]\u001b[0m\u001b[0;34m,\u001b[0m \u001b[0mc\u001b[0m\u001b[0;34m=\u001b[0m\u001b[0my_kmeans\u001b[0m\u001b[0;34m,\u001b[0m \u001b[0ms\u001b[0m\u001b[0;34m=\u001b[0m\u001b[0;36m50\u001b[0m\u001b[0;34m,\u001b[0m \u001b[0mcmap\u001b[0m\u001b[0;34m=\u001b[0m\u001b[0;34m'viridis'\u001b[0m\u001b[0;34m)\u001b[0m\u001b[0;34m\u001b[0m\u001b[0;34m\u001b[0m\u001b[0m\n\u001b[0m\u001b[1;32m      2\u001b[0m \u001b[0;34m\u001b[0m\u001b[0m\n\u001b[1;32m      3\u001b[0m \u001b[0mcenters\u001b[0m \u001b[0;34m=\u001b[0m \u001b[0mkmeans\u001b[0m\u001b[0;34m.\u001b[0m\u001b[0mcluster_centers_\u001b[0m\u001b[0;34m\u001b[0m\u001b[0;34m\u001b[0m\u001b[0m\n\u001b[1;32m      4\u001b[0m \u001b[0mplt\u001b[0m\u001b[0;34m.\u001b[0m\u001b[0mscatter\u001b[0m\u001b[0;34m(\u001b[0m\u001b[0mcenters\u001b[0m\u001b[0;34m[\u001b[0m\u001b[0;34m:\u001b[0m\u001b[0;34m,\u001b[0m \u001b[0;36m0\u001b[0m\u001b[0;34m]\u001b[0m\u001b[0;34m,\u001b[0m \u001b[0mcenters\u001b[0m\u001b[0;34m[\u001b[0m\u001b[0;34m:\u001b[0m\u001b[0;34m,\u001b[0m \u001b[0;36m1\u001b[0m\u001b[0;34m]\u001b[0m\u001b[0;34m,\u001b[0m \u001b[0mc\u001b[0m\u001b[0;34m=\u001b[0m\u001b[0;34m'black'\u001b[0m\u001b[0;34m,\u001b[0m \u001b[0ms\u001b[0m\u001b[0;34m=\u001b[0m\u001b[0;36m200\u001b[0m\u001b[0;34m,\u001b[0m \u001b[0malpha\u001b[0m\u001b[0;34m=\u001b[0m\u001b[0;36m0.5\u001b[0m\u001b[0;34m)\u001b[0m\u001b[0;34m;\u001b[0m\u001b[0;34m\u001b[0m\u001b[0;34m\u001b[0m\u001b[0m\n",
            "\u001b[0;31mNameError\u001b[0m: name 'X' is not defined"
          ]
        }
      ]
    },
    {
      "cell_type": "code",
      "metadata": {
        "id": "xSfxzKipjxjy",
        "colab_type": "code",
        "outputId": "5f94c8e7-4b09-43d1-92ac-7bc759401287",
        "colab": {
          "base_uri": "https://localhost:8080/",
          "height": 268
        }
      },
      "source": [
        "from sklearn.metrics import pairwise_distances_argmin\n",
        "\n",
        "def find_clusters(X, n_clusters, rseed=2):\n",
        "    rng = np.random.RandomState(rseed)\n",
        "    i = rng.permutation(X.shape[0])[:n_clusters]\n",
        "    centers = X[i]\n",
        "    \n",
        "    while True:\n",
        "        labels = pairwise_distances_argmin(X, centers)\n",
        "        new_centers = np.array([X[labels == i].mean(0)\n",
        "        if np.all(centers == new_centers):\n",
        "            break\n",
        "        centers = new_centers\n",
        "    \n",
        "    return centers, labels\n",
        "\n",
        "centers, labels = find_clusters(X, 4)\n",
        "plt.scatter(X[:, 0], X[:, 1], c=labels,\n",
        "            s=50, cmap='viridis');"
      ],
      "execution_count": 0,
      "outputs": [
        {
          "output_type": "display_data",
          "data": {
            "image/png": "[encoded data removed]",
            "text/plain": [
              "<Figure size 432x288 with 1 Axes>"
            ]
          },
          "metadata": {
            "tags": []
          }
        }
      ]
    },
    {
      "cell_type": "code",
      "metadata": {
        "id": "PQklfWEij83r",
        "colab_type": "code",
        "outputId": "8b619e79-63c7-4026-d76d-860b97d0372d",
        "colab": {
          "base_uri": "https://localhost:8080/",
          "height": 268
        }
      },
      "source": [
        "centers, labels = find_clusters(X, 4, rseed=0)\n",
        "plt.scatter(X[:, 0], X[:, 1], c=labels,\n",
        "            s=50, cmap='viridis');"
      ],
      "execution_count": 0,
      "outputs": [
        {
          "output_type": "display_data",
          "data": {
            "image/png": "[encoded data removed]",
            "text/plain": [
              "<Figure size 432x288 with 1 Axes>"
            ]
          },
          "metadata": {
            "tags": []
          }
        }
      ]
    },
    {
      "cell_type": "code",
      "metadata": {
        "id": "FT4Tkbmm4jA8",
        "colab_type": "code",
        "colab": {}
      },
      "source": [
        "indices = [0,1,3]\n",
        "samples = pd.DataFrame(data1.loc[indices], columns = data.keys()).reset_index(drop = True)"
      ],
      "execution_count": 0,
      "outputs": []
    },
    {
      "cell_type": "code",
      "metadata": {
        "id": "qppJV_LN2GAM",
        "colab_type": "code",
        "colab": {}
      },
      "source": [
        "import numpy as np\n",
        "log_data = np.log(data1)\n",
        "log_samples = np.log(samples)"
      ],
      "execution_count": 0,
      "outputs": []
    },
    {
      "cell_type": "code",
      "metadata": {
        "id": "4QjQYuky5PtC",
        "colab_type": "code",
        "colab": {}
      },
      "source": [
        "from sklearn.decomposition import PCA"
      ],
      "execution_count": 0,
      "outputs": []
    },
    {
      "cell_type": "code",
      "metadata": {
        "id": "ZH-ecBGC1jxh",
        "colab_type": "code",
        "outputId": "aafbda6b-5d04-488f-8774-bc52e54f4247",
        "colab": {
          "base_uri": "https://localhost:8080/",
          "height": 52
        }
      },
      "source": [
        "pca = PCA(n_components=6)\n",
        "pca.fit(data1)"
      ],
      "execution_count": 0,
      "outputs": [
        {
          "output_type": "execute_result",
          "data": {
            "text/plain": [
              "PCA(copy=True, iterated_power='auto', n_components=6, random_state=None,\n",
              "  svd_solver='auto', tol=0.0, whiten=False)"
            ]
          },
          "metadata": {
            "tags": []
          },
          "execution_count": 39
        }
      ]
    },
    {
      "cell_type": "code",
      "metadata": {
        "id": "oe8zxHte7BYz",
        "colab_type": "code",
        "outputId": "d56c45c2-c8bd-48fb-e446-68dc803b916f",
        "colab": {
          "base_uri": "https://localhost:8080/",
          "height": 137
        }
      },
      "source": [
        "samples"
      ],
      "execution_count": 0,
      "outputs": [
        {
          "output_type": "execute_result",
          "data": {
            "text/html": [
              "<div>\n",
              "<style scoped>\n",
              "    .dataframe tbody tr th:only-of-type {\n",
              "        vertical-align: middle;\n",
              "    }\n",
              "\n",
              "    .dataframe tbody tr th {\n",
              "        vertical-align: top;\n",
              "    }\n",
              "\n",
              "    .dataframe thead th {\n",
              "        text-align: right;\n",
              "    }\n",
              "</style>\n",
              "<table border=\"1\" class=\"dataframe\">\n",
              "  <thead>\n",
              "    <tr style=\"text-align: right;\">\n",
              "      <th></th>\n",
              "      <th>Wholesale customers data.csv</th>\n",
              "    </tr>\n",
              "  </thead>\n",
              "  <tbody>\n",
              "    <tr>\n",
              "      <th>0</th>\n",
              "      <td>NaN</td>\n",
              "    </tr>\n",
              "    <tr>\n",
              "      <th>1</th>\n",
              "      <td>NaN</td>\n",
              "    </tr>\n",
              "    <tr>\n",
              "      <th>2</th>\n",
              "      <td>NaN</td>\n",
              "    </tr>\n",
              "  </tbody>\n",
              "</table>\n",
              "</div>"
            ],
            "text/plain": [
              "   Wholesale customers data.csv\n",
              "0                           NaN\n",
              "1                           NaN\n",
              "2                           NaN"
            ]
          },
          "metadata": {
            "tags": []
          },
          "execution_count": 45
        }
      ]
    },
    {
      "cell_type": "code",
      "metadata": {
        "id": "pJsIfDO866aZ",
        "colab_type": "code",
        "colab": {}
      },
      "source": [
        "log_samples = np.log(samples)"
      ],
      "execution_count": 0,
      "outputs": []
    },
    {
      "cell_type": "code",
      "metadata": {
        "id": "XiptN80G6xfd",
        "colab_type": "code",
        "outputId": "f3c1b25b-faab-432e-c89f-ba75bf919a21",
        "colab": {
          "base_uri": "https://localhost:8080/",
          "height": 137
        }
      },
      "source": [
        "log_samples"
      ],
      "execution_count": 0,
      "outputs": [
        {
          "output_type": "execute_result",
          "data": {
            "text/html": [
              "<div>\n",
              "<style scoped>\n",
              "    .dataframe tbody tr th:only-of-type {\n",
              "        vertical-align: middle;\n",
              "    }\n",
              "\n",
              "    .dataframe tbody tr th {\n",
              "        vertical-align: top;\n",
              "    }\n",
              "\n",
              "    .dataframe thead th {\n",
              "        text-align: right;\n",
              "    }\n",
              "</style>\n",
              "<table border=\"1\" class=\"dataframe\">\n",
              "  <thead>\n",
              "    <tr style=\"text-align: right;\">\n",
              "      <th></th>\n",
              "      <th>Wholesale customers data.csv</th>\n",
              "    </tr>\n",
              "  </thead>\n",
              "  <tbody>\n",
              "    <tr>\n",
              "      <th>0</th>\n",
              "      <td>NaN</td>\n",
              "    </tr>\n",
              "    <tr>\n",
              "      <th>1</th>\n",
              "      <td>NaN</td>\n",
              "    </tr>\n",
              "    <tr>\n",
              "      <th>2</th>\n",
              "      <td>NaN</td>\n",
              "    </tr>\n",
              "  </tbody>\n",
              "</table>\n",
              "</div>"
            ],
            "text/plain": [
              "   Wholesale customers data.csv\n",
              "0                           NaN\n",
              "1                           NaN\n",
              "2                           NaN"
            ]
          },
          "metadata": {
            "tags": []
          },
          "execution_count": 53
        }
      ]
    },
    {
      "cell_type": "code",
      "metadata": {
        "id": "3-OGJXWQ6nhK",
        "colab_type": "code",
        "outputId": "d20a0030-e36c-4dba-c190-c55e32165664",
        "colab": {
          "base_uri": "https://localhost:8080/",
          "height": 316
        }
      },
      "source": [
        "pca_samples = pca.transform(log_samples)"
      ],
      "execution_count": 0,
      "outputs": [
        {
          "output_type": "error",
          "ename": "ValueError",
          "evalue": "ignored",
          "traceback": [
            "\u001b[0;31m---------------------------------------------------------------------------\u001b[0m",
            "\u001b[0;31mValueError\u001b[0m                                Traceback (most recent call last)",
            "\u001b[0;32m<ipython-input-50-2b33b60e0f39>\u001b[0m in \u001b[0;36m<module>\u001b[0;34m()\u001b[0m\n\u001b[0;32m----> 1\u001b[0;31m \u001b[0mpca_samples\u001b[0m \u001b[0;34m=\u001b[0m \u001b[0mpca\u001b[0m\u001b[0;34m.\u001b[0m\u001b[0mtransform\u001b[0m\u001b[0;34m(\u001b[0m\u001b[0mlog_samples\u001b[0m\u001b[0;34m)\u001b[0m\u001b[0;34m\u001b[0m\u001b[0;34m\u001b[0m\u001b[0m\n\u001b[0m",
            "\u001b[0;32m/usr/local/lib/python3.6/dist-packages/sklearn/decomposition/base.py\u001b[0m in \u001b[0;36mtransform\u001b[0;34m(self, X)\u001b[0m\n\u001b[1;32m    126\u001b[0m         \u001b[0mcheck_is_fitted\u001b[0m\u001b[0;34m(\u001b[0m\u001b[0mself\u001b[0m\u001b[0;34m,\u001b[0m \u001b[0;34m[\u001b[0m\u001b[0;34m'mean_'\u001b[0m\u001b[0;34m,\u001b[0m \u001b[0;34m'components_'\u001b[0m\u001b[0;34m]\u001b[0m\u001b[0;34m,\u001b[0m \u001b[0mall_or_any\u001b[0m\u001b[0;34m=\u001b[0m\u001b[0mall\u001b[0m\u001b[0;34m)\u001b[0m\u001b[0;34m\u001b[0m\u001b[0;34m\u001b[0m\u001b[0m\n\u001b[1;32m    127\u001b[0m \u001b[0;34m\u001b[0m\u001b[0m\n\u001b[0;32m--> 128\u001b[0;31m         \u001b[0mX\u001b[0m \u001b[0;34m=\u001b[0m \u001b[0mcheck_array\u001b[0m\u001b[0;34m(\u001b[0m\u001b[0mX\u001b[0m\u001b[0;34m)\u001b[0m\u001b[0;34m\u001b[0m\u001b[0;34m\u001b[0m\u001b[0m\n\u001b[0m\u001b[1;32m    129\u001b[0m         \u001b[0;32mif\u001b[0m \u001b[0mself\u001b[0m\u001b[0;34m.\u001b[0m\u001b[0mmean_\u001b[0m \u001b[0;32mis\u001b[0m \u001b[0;32mnot\u001b[0m \u001b[0;32mNone\u001b[0m\u001b[0;34m:\u001b[0m\u001b[0;34m\u001b[0m\u001b[0;34m\u001b[0m\u001b[0m\n\u001b[1;32m    130\u001b[0m             \u001b[0mX\u001b[0m \u001b[0;34m=\u001b[0m \u001b[0mX\u001b[0m \u001b[0;34m-\u001b[0m \u001b[0mself\u001b[0m\u001b[0;34m.\u001b[0m\u001b[0mmean_\u001b[0m\u001b[0;34m\u001b[0m\u001b[0;34m\u001b[0m\u001b[0m\n",
            "\u001b[0;32m/usr/local/lib/python3.6/dist-packages/sklearn/utils/validation.py\u001b[0m in \u001b[0;36mcheck_array\u001b[0;34m(array, accept_sparse, accept_large_sparse, dtype, order, copy, force_all_finite, ensure_2d, allow_nd, ensure_min_samples, ensure_min_features, warn_on_dtype, estimator)\u001b[0m\n\u001b[1;32m    571\u001b[0m         \u001b[0;32mif\u001b[0m \u001b[0mforce_all_finite\u001b[0m\u001b[0;34m:\u001b[0m\u001b[0;34m\u001b[0m\u001b[0;34m\u001b[0m\u001b[0m\n\u001b[1;32m    572\u001b[0m             _assert_all_finite(array,\n\u001b[0;32m--> 573\u001b[0;31m                                allow_nan=force_all_finite == 'allow-nan')\n\u001b[0m\u001b[1;32m    574\u001b[0m \u001b[0;34m\u001b[0m\u001b[0m\n\u001b[1;32m    575\u001b[0m     \u001b[0mshape_repr\u001b[0m \u001b[0;34m=\u001b[0m \u001b[0m_shape_repr\u001b[0m\u001b[0;34m(\u001b[0m\u001b[0marray\u001b[0m\u001b[0;34m.\u001b[0m\u001b[0mshape\u001b[0m\u001b[0;34m)\u001b[0m\u001b[0;34m\u001b[0m\u001b[0;34m\u001b[0m\u001b[0m\n",
            "\u001b[0;32m/usr/local/lib/python3.6/dist-packages/sklearn/utils/validation.py\u001b[0m in \u001b[0;36m_assert_all_finite\u001b[0;34m(X, allow_nan)\u001b[0m\n\u001b[1;32m     54\u001b[0m                 not allow_nan and not np.isfinite(X).all()):\n\u001b[1;32m     55\u001b[0m             \u001b[0mtype_err\u001b[0m \u001b[0;34m=\u001b[0m \u001b[0;34m'infinity'\u001b[0m \u001b[0;32mif\u001b[0m \u001b[0mallow_nan\u001b[0m \u001b[0;32melse\u001b[0m \u001b[0;34m'NaN, infinity'\u001b[0m\u001b[0;34m\u001b[0m\u001b[0;34m\u001b[0m\u001b[0m\n\u001b[0;32m---> 56\u001b[0;31m             \u001b[0;32mraise\u001b[0m \u001b[0mValueError\u001b[0m\u001b[0;34m(\u001b[0m\u001b[0mmsg_err\u001b[0m\u001b[0;34m.\u001b[0m\u001b[0mformat\u001b[0m\u001b[0;34m(\u001b[0m\u001b[0mtype_err\u001b[0m\u001b[0;34m,\u001b[0m \u001b[0mX\u001b[0m\u001b[0;34m.\u001b[0m\u001b[0mdtype\u001b[0m\u001b[0;34m)\u001b[0m\u001b[0;34m)\u001b[0m\u001b[0;34m\u001b[0m\u001b[0;34m\u001b[0m\u001b[0m\n\u001b[0m\u001b[1;32m     57\u001b[0m \u001b[0;34m\u001b[0m\u001b[0m\n\u001b[1;32m     58\u001b[0m \u001b[0;34m\u001b[0m\u001b[0m\n",
            "\u001b[0;31mValueError\u001b[0m: Input contains NaN, infinity or a value too large for dtype('float64')."
          ]
        }
      ]
    }
  ]
}