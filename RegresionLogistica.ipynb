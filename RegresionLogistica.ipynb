{
  "nbformat": 4,
  "nbformat_minor": 0,
  "metadata": {
    "colab": {
      "name": "Copy of Laboratorio 4 - EoML.ipynb",
      "version": "0.3.2",
      "provenance": [],
      "collapsed_sections": [],
      "include_colab_link": true
    },
    "kernelspec": {
      "name": "python3",
      "display_name": "Python 3"
    },
    "accelerator": "GPU"
  },
  "cells": [
    {
      "cell_type": "markdown",
      "metadata": {
        "id": "view-in-github",
        "colab_type": "text"
      },
      "source": [
        "<a href=\"https://colab.research.google.com/github/javiervasquezufm/ELEMENTS-OF-MACHINE-LEARNING/blob/master/RegresionLogistica.ipynb\" target=\"_parent\"><img src=\"https://colab.research.google.com/assets/colab-badge.svg\" alt=\"Open In Colab\"/></a>"
      ]
    },
    {
      "cell_type": "markdown",
      "metadata": {
        "id": "Ogh-5HfiUKBJ",
        "colab_type": "text"
      },
      "source": [
        "# Laboatorio 3\n",
        "\n",
        "En este laboratorio usaremos cuatro tipo de clasificadores sobre datos de bolsa de valores para predecir si el mercado está de subida o de bajada para cierta fecha. Los datos están en https://github.com/JWarmenhoven/ISLR-python/blob/master/Notebooks/Data/Smarket.csv."
      ]
    },
    {
      "cell_type": "code",
      "metadata": {
        "id": "FGK2hXU75o3s",
        "colab_type": "code",
        "outputId": "71d8e73d-ffbd-4629-b881-04445db9c8cc",
        "colab": {
          "base_uri": "https://localhost:8080/",
          "height": 34
        }
      },
      "source": [
        "import sklearn\n",
        "sklearn.__version__"
      ],
      "execution_count": 0,
      "outputs": [
        {
          "output_type": "execute_result",
          "data": {
            "text/plain": [
              "'0.20.2'"
            ]
          },
          "metadata": {
            "tags": []
          },
          "execution_count": 84
        }
      ]
    },
    {
      "cell_type": "code",
      "metadata": {
        "id": "iJbtVNmk5qTl",
        "colab_type": "code",
        "colab": {}
      },
      "source": [
        "from sklearn.discriminant_analysis import LinearDiscriminantAnalysis\n",
        "from sklearn.discriminant_analysis import QuadraticDiscriminantAnalysis"
      ],
      "execution_count": 0,
      "outputs": []
    },
    {
      "cell_type": "code",
      "metadata": {
        "id": "sqj79xiaUPOV",
        "colab_type": "code",
        "outputId": "caaa02c5-a7fa-4c53-be10-35045ac304e2",
        "colab": {
          "base_uri": "https://localhost:8080/",
          "height": 119
        }
      },
      "source": [
        "import numpy as np\n",
        "import pandas as pd\n",
        "\n",
        "import matplotlib\n",
        "import matplotlib.pyplot as plt\n",
        "\n",
        "import seaborn as sns\n",
        "import sklearn\n",
        "import statsmodels\n",
        "import statsmodels.formula.api as smf\n",
        "import statsmodels.api as sm\n",
        "from sklearn.discriminant_analysis import LinearDiscriminantAnalysis\n",
        "from sklearn.discriminant_analysis import QuadraticDiscriminantAnalysis\n",
        "from sklearn.metrics import confusion_matrix, classification_report, precision_score\n",
        "\n",
        "print(\"Todos los paquetes han sido importados:\")\n",
        "print(\"Numpy version: {}\".format(np.__version__))\n",
        "print(\"Pandas version: {}\".format(pd.__version__))\n",
        "print(\"Matplotlib version: {}\".format(matplotlib.__version__))\n",
        "print(\"Seaborn version: {}\".format(sns.__version__))\n",
        "print(\"Statsmodels-learn version: {}\".format(statsmodels.__version__))"
      ],
      "execution_count": 0,
      "outputs": [
        {
          "output_type": "stream",
          "text": [
            "Todos los paquetes han sido importados:\n",
            "Numpy version: 1.14.6\n",
            "Pandas version: 0.22.0\n",
            "Matplotlib version: 3.0.2\n",
            "Seaborn version: 0.7.1\n",
            "Statsmodels-learn version: 0.8.0\n"
          ],
          "name": "stdout"
        }
      ]
    },
    {
      "cell_type": "markdown",
      "metadata": {
        "id": "YEj6N0DeVm9H",
        "colab_type": "text"
      },
      "source": [
        "## Explorando los datos\n",
        "\n",
        "Las variables en smarket son\n",
        "\n",
        "\n",
        "*   Año\n",
        "*   Lag1 a Lag5: porcentaje de retornos de los cinco días previos\n",
        "*   Volume: el número de intercambios el día previo en billones\n",
        "*   Today: porcentaje de retorno en ese día\n",
        "*   Direction: si el mercado está de subida o bajada ese día"
      ]
    },
    {
      "cell_type": "code",
      "metadata": {
        "id": "U4Gq8VnbmQD2",
        "colab_type": "code",
        "outputId": "643cdcf8-8299-4d75-cc6a-df99188bc4c2",
        "colab": {
          "base_uri": "https://localhost:8080/",
          "height": 204
        }
      },
      "source": [
        "url = 'https://raw.githubusercontent.com/JWarmenhoven/ISLR-python/master/Notebooks/Data/Smarket.csv'\n",
        "smarket = pd.read_csv((url),parse_dates = True)\n",
        "smarket = smarket.drop('Unnamed: 0', axis=1)\n",
        "\n",
        "smarket.head()"
      ],
      "execution_count": 0,
      "outputs": [
        {
          "output_type": "execute_result",
          "data": {
            "text/html": [
              "<div>\n",
              "<style scoped>\n",
              "    .dataframe tbody tr th:only-of-type {\n",
              "        vertical-align: middle;\n",
              "    }\n",
              "\n",
              "    .dataframe tbody tr th {\n",
              "        vertical-align: top;\n",
              "    }\n",
              "\n",
              "    .dataframe thead th {\n",
              "        text-align: right;\n",
              "    }\n",
              "</style>\n",
              "<table border=\"1\" class=\"dataframe\">\n",
              "  <thead>\n",
              "    <tr style=\"text-align: right;\">\n",
              "      <th></th>\n",
              "      <th>Year</th>\n",
              "      <th>Lag1</th>\n",
              "      <th>Lag2</th>\n",
              "      <th>Lag3</th>\n",
              "      <th>Lag4</th>\n",
              "      <th>Lag5</th>\n",
              "      <th>Volume</th>\n",
              "      <th>Today</th>\n",
              "      <th>Direction</th>\n",
              "    </tr>\n",
              "  </thead>\n",
              "  <tbody>\n",
              "    <tr>\n",
              "      <th>0</th>\n",
              "      <td>2001</td>\n",
              "      <td>0.381</td>\n",
              "      <td>-0.192</td>\n",
              "      <td>-2.624</td>\n",
              "      <td>-1.055</td>\n",
              "      <td>5.010</td>\n",
              "      <td>1.1913</td>\n",
              "      <td>0.959</td>\n",
              "      <td>Up</td>\n",
              "    </tr>\n",
              "    <tr>\n",
              "      <th>1</th>\n",
              "      <td>2001</td>\n",
              "      <td>0.959</td>\n",
              "      <td>0.381</td>\n",
              "      <td>-0.192</td>\n",
              "      <td>-2.624</td>\n",
              "      <td>-1.055</td>\n",
              "      <td>1.2965</td>\n",
              "      <td>1.032</td>\n",
              "      <td>Up</td>\n",
              "    </tr>\n",
              "    <tr>\n",
              "      <th>2</th>\n",
              "      <td>2001</td>\n",
              "      <td>1.032</td>\n",
              "      <td>0.959</td>\n",
              "      <td>0.381</td>\n",
              "      <td>-0.192</td>\n",
              "      <td>-2.624</td>\n",
              "      <td>1.4112</td>\n",
              "      <td>-0.623</td>\n",
              "      <td>Down</td>\n",
              "    </tr>\n",
              "    <tr>\n",
              "      <th>3</th>\n",
              "      <td>2001</td>\n",
              "      <td>-0.623</td>\n",
              "      <td>1.032</td>\n",
              "      <td>0.959</td>\n",
              "      <td>0.381</td>\n",
              "      <td>-0.192</td>\n",
              "      <td>1.2760</td>\n",
              "      <td>0.614</td>\n",
              "      <td>Up</td>\n",
              "    </tr>\n",
              "    <tr>\n",
              "      <th>4</th>\n",
              "      <td>2001</td>\n",
              "      <td>0.614</td>\n",
              "      <td>-0.623</td>\n",
              "      <td>1.032</td>\n",
              "      <td>0.959</td>\n",
              "      <td>0.381</td>\n",
              "      <td>1.2057</td>\n",
              "      <td>0.213</td>\n",
              "      <td>Up</td>\n",
              "    </tr>\n",
              "  </tbody>\n",
              "</table>\n",
              "</div>"
            ],
            "text/plain": [
              "   Year   Lag1   Lag2   Lag3   Lag4   Lag5  Volume  Today Direction\n",
              "0  2001  0.381 -0.192 -2.624 -1.055  5.010  1.1913  0.959        Up\n",
              "1  2001  0.959  0.381 -0.192 -2.624 -1.055  1.2965  1.032        Up\n",
              "2  2001  1.032  0.959  0.381 -0.192 -2.624  1.4112 -0.623      Down\n",
              "3  2001 -0.623  1.032  0.959  0.381 -0.192  1.2760  0.614        Up\n",
              "4  2001  0.614 -0.623  1.032  0.959  0.381  1.2057  0.213        Up"
            ]
          },
          "metadata": {
            "tags": []
          },
          "execution_count": 59
        }
      ]
    },
    {
      "cell_type": "code",
      "metadata": {
        "id": "Zx6JCeGlW42G",
        "colab_type": "code",
        "outputId": "5512be02-78c1-4566-d34c-7c2037a829ca",
        "colab": {
          "base_uri": "https://localhost:8080/",
          "height": 297
        }
      },
      "source": [
        "smarket.describe()"
      ],
      "execution_count": 0,
      "outputs": [
        {
          "output_type": "execute_result",
          "data": {
            "text/html": [
              "<div>\n",
              "<style scoped>\n",
              "    .dataframe tbody tr th:only-of-type {\n",
              "        vertical-align: middle;\n",
              "    }\n",
              "\n",
              "    .dataframe tbody tr th {\n",
              "        vertical-align: top;\n",
              "    }\n",
              "\n",
              "    .dataframe thead th {\n",
              "        text-align: right;\n",
              "    }\n",
              "</style>\n",
              "<table border=\"1\" class=\"dataframe\">\n",
              "  <thead>\n",
              "    <tr style=\"text-align: right;\">\n",
              "      <th></th>\n",
              "      <th>Year</th>\n",
              "      <th>Lag1</th>\n",
              "      <th>Lag2</th>\n",
              "      <th>Lag3</th>\n",
              "      <th>Lag4</th>\n",
              "      <th>Lag5</th>\n",
              "      <th>Volume</th>\n",
              "      <th>Today</th>\n",
              "    </tr>\n",
              "  </thead>\n",
              "  <tbody>\n",
              "    <tr>\n",
              "      <th>count</th>\n",
              "      <td>1250.000000</td>\n",
              "      <td>1250.000000</td>\n",
              "      <td>1250.000000</td>\n",
              "      <td>1250.000000</td>\n",
              "      <td>1250.000000</td>\n",
              "      <td>1250.00000</td>\n",
              "      <td>1250.000000</td>\n",
              "      <td>1250.000000</td>\n",
              "    </tr>\n",
              "    <tr>\n",
              "      <th>mean</th>\n",
              "      <td>2003.016000</td>\n",
              "      <td>0.003834</td>\n",
              "      <td>0.003919</td>\n",
              "      <td>0.001716</td>\n",
              "      <td>0.001636</td>\n",
              "      <td>0.00561</td>\n",
              "      <td>1.478305</td>\n",
              "      <td>0.003138</td>\n",
              "    </tr>\n",
              "    <tr>\n",
              "      <th>std</th>\n",
              "      <td>1.409018</td>\n",
              "      <td>1.136299</td>\n",
              "      <td>1.136280</td>\n",
              "      <td>1.138703</td>\n",
              "      <td>1.138774</td>\n",
              "      <td>1.14755</td>\n",
              "      <td>0.360357</td>\n",
              "      <td>1.136334</td>\n",
              "    </tr>\n",
              "    <tr>\n",
              "      <th>min</th>\n",
              "      <td>2001.000000</td>\n",
              "      <td>-4.922000</td>\n",
              "      <td>-4.922000</td>\n",
              "      <td>-4.922000</td>\n",
              "      <td>-4.922000</td>\n",
              "      <td>-4.92200</td>\n",
              "      <td>0.356070</td>\n",
              "      <td>-4.922000</td>\n",
              "    </tr>\n",
              "    <tr>\n",
              "      <th>25%</th>\n",
              "      <td>2002.000000</td>\n",
              "      <td>-0.639500</td>\n",
              "      <td>-0.639500</td>\n",
              "      <td>-0.640000</td>\n",
              "      <td>-0.640000</td>\n",
              "      <td>-0.64000</td>\n",
              "      <td>1.257400</td>\n",
              "      <td>-0.639500</td>\n",
              "    </tr>\n",
              "    <tr>\n",
              "      <th>50%</th>\n",
              "      <td>2003.000000</td>\n",
              "      <td>0.039000</td>\n",
              "      <td>0.039000</td>\n",
              "      <td>0.038500</td>\n",
              "      <td>0.038500</td>\n",
              "      <td>0.03850</td>\n",
              "      <td>1.422950</td>\n",
              "      <td>0.038500</td>\n",
              "    </tr>\n",
              "    <tr>\n",
              "      <th>75%</th>\n",
              "      <td>2004.000000</td>\n",
              "      <td>0.596750</td>\n",
              "      <td>0.596750</td>\n",
              "      <td>0.596750</td>\n",
              "      <td>0.596750</td>\n",
              "      <td>0.59700</td>\n",
              "      <td>1.641675</td>\n",
              "      <td>0.596750</td>\n",
              "    </tr>\n",
              "    <tr>\n",
              "      <th>max</th>\n",
              "      <td>2005.000000</td>\n",
              "      <td>5.733000</td>\n",
              "      <td>5.733000</td>\n",
              "      <td>5.733000</td>\n",
              "      <td>5.733000</td>\n",
              "      <td>5.73300</td>\n",
              "      <td>3.152470</td>\n",
              "      <td>5.733000</td>\n",
              "    </tr>\n",
              "  </tbody>\n",
              "</table>\n",
              "</div>"
            ],
            "text/plain": [
              "              Year         Lag1         Lag2         Lag3         Lag4  \\\n",
              "count  1250.000000  1250.000000  1250.000000  1250.000000  1250.000000   \n",
              "mean   2003.016000     0.003834     0.003919     0.001716     0.001636   \n",
              "std       1.409018     1.136299     1.136280     1.138703     1.138774   \n",
              "min    2001.000000    -4.922000    -4.922000    -4.922000    -4.922000   \n",
              "25%    2002.000000    -0.639500    -0.639500    -0.640000    -0.640000   \n",
              "50%    2003.000000     0.039000     0.039000     0.038500     0.038500   \n",
              "75%    2004.000000     0.596750     0.596750     0.596750     0.596750   \n",
              "max    2005.000000     5.733000     5.733000     5.733000     5.733000   \n",
              "\n",
              "             Lag5       Volume        Today  \n",
              "count  1250.00000  1250.000000  1250.000000  \n",
              "mean      0.00561     1.478305     0.003138  \n",
              "std       1.14755     0.360357     1.136334  \n",
              "min      -4.92200     0.356070    -4.922000  \n",
              "25%      -0.64000     1.257400    -0.639500  \n",
              "50%       0.03850     1.422950     0.038500  \n",
              "75%       0.59700     1.641675     0.596750  \n",
              "max       5.73300     3.152470     5.733000  "
            ]
          },
          "metadata": {
            "tags": []
          },
          "execution_count": 3
        }
      ]
    },
    {
      "cell_type": "markdown",
      "metadata": {
        "id": "ZmInvgZSalzW",
        "colab_type": "text"
      },
      "source": [
        "Predeciremos direction, que esperamos que sea binario. Verifiquemos que lo es"
      ]
    },
    {
      "cell_type": "code",
      "metadata": {
        "id": "tuOLMTbWaoSt",
        "colab_type": "code",
        "outputId": "f0fe5edb-54df-4a2d-8126-5b51cc097932",
        "colab": {
          "base_uri": "https://localhost:8080/",
          "height": 412
        }
      },
      "source": [
        "sns.countplot(x='Direction',data=smarket, palette='hls')"
      ],
      "execution_count": 0,
      "outputs": [
        {
          "output_type": "stream",
          "text": [
            "/usr/local/lib/python3.6/dist-packages/seaborn/categorical.py:1428: FutureWarning: remove_na is deprecated and is a private function. Do not use.\n",
            "  stat_data = remove_na(group_data)\n"
          ],
          "name": "stderr"
        },
        {
          "output_type": "execute_result",
          "data": {
            "text/plain": [
              "<matplotlib.axes._subplots.AxesSubplot at 0x7f5b11d77978>"
            ]
          },
          "metadata": {
            "tags": []
          },
          "execution_count": 4
        },
        {
          "output_type": "display_data",
          "data": {
            "image/png": "[encoded data removed]",
            "text/plain": [
              "<Figure size 576x396 with 1 Axes>"
            ]
          },
          "metadata": {
            "tags": []
          }
        }
      ]
    },
    {
      "cell_type": "markdown",
      "metadata": {
        "id": "Pu80yTszYhfF",
        "colab_type": "text"
      },
      "source": [
        "Generamos una matriz de correlaciones entre variables para visualizar "
      ]
    },
    {
      "cell_type": "code",
      "metadata": {
        "id": "7NHpJrsfhACp",
        "colab_type": "code",
        "outputId": "611ba700-3277-4c93-b428-bd92f38d6f3b",
        "colab": {
          "base_uri": "https://localhost:8080/",
          "height": 364
        }
      },
      "source": [
        "#smarket.corr()\n",
        "\n",
        "cols = list(smarket)\n",
        "print(cols)\n",
        "\n",
        "coefs = np.corrcoef(smarket[cols[0:8]].values.T)\n",
        "heatMap = sns.heatmap(coefs, annot = True, yticklabels=cols[0:8], xticklabels=cols)"
      ],
      "execution_count": 0,
      "outputs": [
        {
          "output_type": "stream",
          "text": [
            "['Year', 'Lag1', 'Lag2', 'Lag3', 'Lag4', 'Lag5', 'Volume', 'Today', 'Direction']\n"
          ],
          "name": "stdout"
        },
        {
          "output_type": "display_data",
          "data": {
            "image/png": "[encoded data removed]",
            "text/plain": [
              "<Figure size 576x396 with 2 Axes>"
            ]
          },
          "metadata": {
            "tags": []
          }
        }
      ]
    },
    {
      "cell_type": "markdown",
      "metadata": {
        "id": "0-SbXPMJhD9V",
        "colab_type": "text"
      },
      "source": [
        "Noten que excluí la columna de Direction porque no es numérica. La única correlación que sobresale es entre volumen y años con 0.539006, las demás son menores a 0.05. Esto último era de esperarse: no parece haber correlacción entre los retornos de hoy y los de días anteriores. Generemos una función de gráfica de dispersión para visualizar la relación entre volumen y año."
      ]
    },
    {
      "cell_type": "code",
      "metadata": {
        "id": "Xw-jawUYrBk8",
        "colab_type": "code",
        "colab": {}
      },
      "source": [
        "def make_scatter_plot(dataframe, input_feature, target,\n",
        "                      slopes=[], biases=[], model_names=[]):\n",
        "  \"\"\" Creates a scatter plot of input_feature vs target along with the models.\n",
        "  \n",
        "  Args:\n",
        "    dataframe: the dataframe to visualize\n",
        "    input_feature: the input feature to be used for the x-axis\n",
        "    target: the target to be used for the y-axis\n",
        "  \"\"\"      \n",
        "  # Define some colors to use that go from blue towards red\n",
        "  colors = [cm.coolwarm(x) for x in np.linspace(0, 1, len(slopes))]\n",
        "  \n",
        "  # Generate the Scatter plot\n",
        "  x = dataframe[input_feature]\n",
        "  y = dataframe[target]\n",
        "  plt.ylabel(target)\n",
        "  plt.xlabel(input_feature)\n",
        "  plt.scatter(x, y, color='black', label=\"\")"
      ],
      "execution_count": 0,
      "outputs": []
    },
    {
      "cell_type": "markdown",
      "metadata": {
        "id": "tcKfG6Nnh9Xd",
        "colab_type": "text"
      },
      "source": [
        "### Ejercicio\n",
        "\n",
        "En el laboratorio utilizarás los métodos de clasificación: regresión logística, análisis de discriminante lineal, análisis de discriminante cuadrático y vecinos k-cercanos. Para smarket, cuál crees que será el mejor predictor o el más apropiado para la variable Direction? Los aspectos que debes tomar en cuenta son: número de observaciones, normalidad de la distribución de los datos, no linealidad entre la relación entre los predictores y el target. Responde en la celda de abajo"
      ]
    },
    {
      "cell_type": "markdown",
      "metadata": {
        "id": "XcECKpOouHJC",
        "colab_type": "text"
      },
      "source": [
        "Desde mi punto de vista el que mayor informacion da es el de la regresion logistica, puesto que nos da una idea de la relevacia que tiene el target con respecto a los predictores. Ya que nos da el coeficiente que apartir de cierto valor es un predictor relevante, y el coefiiente z. Tiene una informacion mas completa. "
      ]
    },
    {
      "cell_type": "markdown",
      "metadata": {
        "id": "GYYGOXmOusZT",
        "colab_type": "text"
      },
      "source": [
        "## Análisis (Tarea)\n",
        "\n",
        "Para cada uno de los cuatro métodos de clasificación, escoge observaciones de entrenamiento y otras de prueba\n",
        "\n",
        "1.   Genera un modelo de predicción para la variable Direction usando observaciones de entrenamiento\n",
        "2.   Realiza cuadros de confusión para cada uno\n",
        "\n"
      ]
    },
    {
      "cell_type": "markdown",
      "metadata": {
        "id": "synPonsZuNGE",
        "colab_type": "text"
      },
      "source": [
        "### Regresión logística"
      ]
    },
    {
      "cell_type": "code",
      "metadata": {
        "id": "kC7qyFHalZJP",
        "colab_type": "code",
        "outputId": "fd0b7e1b-607f-49ec-a3a6-6dd6157a5d8b",
        "colab": {
          "base_uri": "https://localhost:8080/",
          "height": 391
        }
      },
      "source": [
        "formula = 'Direction ~ Lag1+Lag2+Lag3+Lag4+Lag5+Volume'\n",
        "\n",
        "model = smf.glm(formula=formula, data=smarket, family=sm.families.Binomial())\n",
        "result = model.fit()\n",
        "print(result.summary2())"
      ],
      "execution_count": 0,
      "outputs": [
        {
          "output_type": "stream",
          "text": [
            "                         Results: Generalized linear model\n",
            "===================================================================================\n",
            "Model:              GLM                                  AIC:            1741.5841 \n",
            "Link Function:      logit                                BIC:            -7136.1232\n",
            "Dependent Variable: ['Direction[Down]', 'Direction[Up]'] Log-Likelihood: -863.79   \n",
            "Date:               2019-02-13 16:17                     LL-Null:        -865.59   \n",
            "No. Observations:   1250                                 Deviance:       1727.6    \n",
            "Df Model:           6                                    Pearson chi2:   1.25e+03  \n",
            "Df Residuals:       1243                                 Scale:          1.0000    \n",
            "Method:             IRLS                                                           \n",
            "----------------------------------------------------------------------------------------\n",
            "                  Coef.       Std.Err.         z         P>|z|        [0.025      0.975]\n",
            "----------------------------------------------------------------------------------------\n",
            "Intercept         0.1260        0.2407       0.5234      0.6007      -0.3458      0.5978\n",
            "Lag1              0.0731        0.0502       1.4566      0.1452      -0.0253      0.1714\n",
            "Lag2              0.0423        0.0501       0.8446      0.3984      -0.0559      0.1405\n",
            "Lag3             -0.0111        0.0499      -0.2220      0.8243      -0.1090      0.0868\n",
            "Lag4             -0.0094        0.0500      -0.1873      0.8514      -0.1073      0.0886\n",
            "Lag5             -0.0103        0.0495      -0.2083      0.8350      -0.1074      0.0867\n",
            "Volume           -0.1354        0.1584      -0.8553      0.3924      -0.4458      0.1749\n",
            "===================================================================================\n",
            "\n"
          ],
          "name": "stdout"
        }
      ]
    },
    {
      "cell_type": "code",
      "metadata": {
        "id": "rlerWQ9zuIyW",
        "colab_type": "code",
        "outputId": "c9b22b20-fc36-4707-bde3-afcdc376479c",
        "colab": {
          "base_uri": "https://localhost:8080/",
          "height": 51
        }
      },
      "source": [
        "from sklearn.metrics import confusion_matrix, classification_report\n",
        "print (confusion_matrix(smarket[\"Direction\"], predictions_nominal))"
      ],
      "execution_count": 0,
      "outputs": [
        {
          "output_type": "stream",
          "text": [
            "[[145 457]\n",
            " [141 507]]\n"
          ],
          "name": "stdout"
        }
      ]
    },
    {
      "cell_type": "markdown",
      "metadata": {
        "id": "grenPLU9uQq0",
        "colab_type": "text"
      },
      "source": [
        "### Análisis de discriminante lineal"
      ]
    },
    {
      "cell_type": "code",
      "metadata": {
        "id": "5knz92R1th1g",
        "colab_type": "code",
        "outputId": "db6a3e06-3ba9-4a74-aaaf-183c84dcd0b6",
        "colab": {
          "base_uri": "https://localhost:8080/",
          "height": 34
        }
      },
      "source": [
        "LAD = LinearDiscriminantAnalysis()\n",
        "model = LAD.fit(X_train, y_train)\n",
        "\n",
        "print(model.priors_)"
      ],
      "execution_count": 0,
      "outputs": [
        {
          "output_type": "stream",
          "text": [
            "[0.49198397 0.50801603]\n"
          ],
          "name": "stdout"
        }
      ]
    },
    {
      "cell_type": "code",
      "metadata": {
        "id": "qGpKILqp7aJ3",
        "colab_type": "code",
        "outputId": "fb8445ea-01ae-4b7f-e422-b7fc42d588fc",
        "colab": {
          "base_uri": "https://localhost:8080/",
          "height": 51
        }
      },
      "source": [
        "print(model.means_)"
      ],
      "execution_count": 0,
      "outputs": [
        {
          "output_type": "stream",
          "text": [
            "[[ 0.04279022  0.03389409]\n",
            " [-0.03954635 -0.03132544]]\n"
          ],
          "name": "stdout"
        }
      ]
    },
    {
      "cell_type": "code",
      "metadata": {
        "id": "ezTK7Ew97bx2",
        "colab_type": "code",
        "outputId": "dac223a7-95bf-4712-e1d1-83d72d553785",
        "colab": {
          "base_uri": "https://localhost:8080/",
          "height": 34
        }
      },
      "source": [
        "print(model.coef_)"
      ],
      "execution_count": 0,
      "outputs": [
        {
          "output_type": "stream",
          "text": [
            "[[-0.05544078 -0.0443452 ]]\n"
          ],
          "name": "stdout"
        }
      ]
    },
    {
      "cell_type": "code",
      "metadata": {
        "id": "M-EuZdd264rR",
        "colab_type": "code",
        "outputId": "9d458964-bf3e-46e9-ae9a-9828cd9cc2c7",
        "colab": {
          "base_uri": "https://localhost:8080/",
          "height": 51
        }
      },
      "source": [
        "print(confusion_matrix(pred, y_test))"
      ],
      "execution_count": 0,
      "outputs": [
        {
          "output_type": "stream",
          "text": [
            "[[ 35  35]\n",
            " [ 76 106]]\n"
          ],
          "name": "stdout"
        }
      ]
    },
    {
      "cell_type": "code",
      "metadata": {
        "id": "72fUYxoR77Qy",
        "colab_type": "code",
        "outputId": "96cd2978-814a-4d16-da77-90c9cbded813",
        "colab": {
          "base_uri": "https://localhost:8080/",
          "height": 34
        }
      },
      "source": [
        "max(pred_p[:,1])"
      ],
      "execution_count": 0,
      "outputs": [
        {
          "output_type": "execute_result",
          "data": {
            "text/plain": [
              "0.5422132554518978"
            ]
          },
          "metadata": {
            "tags": []
          },
          "execution_count": 109
        }
      ]
    },
    {
      "cell_type": "markdown",
      "metadata": {
        "id": "YkW5Q8D2uUBK",
        "colab_type": "text"
      },
      "source": [
        "### Análisis de discriminante cuadrático"
      ]
    },
    {
      "cell_type": "code",
      "metadata": {
        "id": "UfV1Tk468Hqq",
        "colab_type": "code",
        "colab": {}
      },
      "source": [
        "QDA = QuadraticDiscriminantAnalysis()\n",
        "model2 = QDA.fit(X_train, y_train)\n"
      ],
      "execution_count": 0,
      "outputs": []
    },
    {
      "cell_type": "code",
      "metadata": {
        "id": "f5DUM0OK8Riy",
        "colab_type": "code",
        "outputId": "9d3d2251-a06f-4d5b-a645-7cae299e0c85",
        "colab": {
          "base_uri": "https://localhost:8080/",
          "height": 68
        }
      },
      "source": [
        "print (model2.priors_)\n",
        "print (model2.means_)"
      ],
      "execution_count": 0,
      "outputs": [
        {
          "output_type": "stream",
          "text": [
            "[0.49198397 0.50801603]\n",
            "[[ 0.04279022  0.03389409]\n",
            " [-0.03954635 -0.03132544]]\n"
          ],
          "name": "stdout"
        }
      ]
    },
    {
      "cell_type": "code",
      "metadata": {
        "id": "E63hMnHm8YF6",
        "colab_type": "code",
        "outputId": "6ff1d00a-a829-4f51-b96e-0931786e81c2",
        "colab": {
          "base_uri": "https://localhost:8080/",
          "height": 51
        }
      },
      "source": [
        "pred2=model2.predict(X_test)\n",
        "print(confusion_matrix(pred2, y_test))"
      ],
      "execution_count": 0,
      "outputs": [
        {
          "output_type": "stream",
          "text": [
            "[[ 30  20]\n",
            " [ 81 121]]\n"
          ],
          "name": "stdout"
        }
      ]
    },
    {
      "cell_type": "markdown",
      "metadata": {
        "id": "WmDcAznauWWl",
        "colab_type": "text"
      },
      "source": [
        "### Vecinos k-cercanos"
      ]
    },
    {
      "cell_type": "code",
      "metadata": {
        "id": "26b6QUudv2D7",
        "colab_type": "code",
        "colab": {}
      },
      "source": [
        "from sklearn import neighbors\n",
        "from sklearn.metrics import confusion_matrix, classification_report"
      ],
      "execution_count": 0,
      "outputs": []
    },
    {
      "cell_type": "code",
      "metadata": {
        "id": "mDKXj7wa1GdI",
        "colab_type": "code",
        "colab": {}
      },
      "source": [
        "url = 'https://raw.githubusercontent.com/JWarmenhoven/ISLR-python/master/Notebooks/Data/Smarket.csv'\n",
        "smarket = pd.read_csv((url),parse_dates = True,usecols=range(1,10), index_col=0)"
      ],
      "execution_count": 0,
      "outputs": []
    },
    {
      "cell_type": "code",
      "metadata": {
        "id": "u_fkfF31v4e2",
        "colab_type": "code",
        "colab": {}
      },
      "source": [
        "X_train = smarket[:'2004'][['Lag1','Lag2']]\n",
        "y_train = smarket[:'2004']['Direction']\n",
        "X_test = smarket['2005':][['Lag1','Lag2']]\n",
        "y_test = smarket['2005':]['Direction']"
      ],
      "execution_count": 0,
      "outputs": []
    },
    {
      "cell_type": "code",
      "metadata": {
        "id": "ylLrIGT61s3v",
        "colab_type": "code",
        "outputId": "35b0ab5f-119f-4fde-8a21-709e14c10bda",
        "colab": {
          "base_uri": "https://localhost:8080/",
          "height": 51
        }
      },
      "source": [
        "knn = neighbors.KNeighborsClassifier(n_neighbors=1)\n",
        "pred = knn.fit(X_train, y_train).predict(X_test)\n",
        "print(confusion_matrix(y_test, pred).T)"
      ],
      "execution_count": 0,
      "outputs": [
        {
          "output_type": "stream",
          "text": [
            "[[43 58]\n",
            " [68 83]]\n"
          ],
          "name": "stdout"
        }
      ]
    },
    {
      "cell_type": "code",
      "metadata": {
        "id": "3IFCt8l615_F",
        "colab_type": "code",
        "outputId": "d5e6577f-c819-4f9b-beac-6bb6e236b2cf",
        "colab": {
          "base_uri": "https://localhost:8080/",
          "height": 51
        }
      },
      "source": [
        "knn = neighbors.KNeighborsClassifier(n_neighbors=100)\n",
        "pred = knn.fit(X_train, y_train).predict(X_test)\n",
        "print(confusion_matrix(y_test, pred).T)"
      ],
      "execution_count": 0,
      "outputs": [
        {
          "output_type": "stream",
          "text": [
            "[[52 61]\n",
            " [59 80]]\n"
          ],
          "name": "stdout"
        }
      ]
    }
  ]
}