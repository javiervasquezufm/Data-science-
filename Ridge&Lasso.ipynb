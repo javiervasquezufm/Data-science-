{
  "nbformat": 4,
  "nbformat_minor": 0,
  "metadata": {
    "colab": {
      "name": "Copy of Tarea4-EoML-UFM.ipynb",
      "version": "0.3.2",
      "provenance": [],
      "collapsed_sections": [],
      "include_colab_link": true
    },
    "kernelspec": {
      "name": "python3",
      "display_name": "Python 3"
    }
  },
  "cells": [
    {
      "cell_type": "markdown",
      "metadata": {
        "id": "view-in-github",
        "colab_type": "text"
      },
      "source": [
        "<a href=\"https://colab.research.google.com/github/javiervasquezufm/ELEMENTS-OF-MACHINE-LEARNING/blob/master/Ridge%26Lasso.ipynb\" target=\"_parent\"><img src=\"https://colab.research.google.com/assets/colab-badge.svg\" alt=\"Open In Colab\"/></a>"
      ]
    },
    {
      "cell_type": "markdown",
      "metadata": {
        "id": "CN8YE4qhcsCu",
        "colab_type": "text"
      },
      "source": [
        "# Ejercicios aplicados: Selección de predictores (mejores subconjuntos y Lasso)\n",
        "\n",
        "(Ejercicio 8 del capítulo 6 del libro:)\n",
        "\n",
        "\n",
        "\n",
        "1.   Genera un predictor $X$ con $n=100$ observaciones aleatorias entre $[0,1]$. Genera también un vector de ruido $\\epsilon$ con $n=100$ valores aleatorios\n",
        "2.   Evalúa $Y=\\beta_0+\\beta_1X+\\beta_2X^2+\\beta_3X^3+\\epsilon$ donde los $\\beta$ son de tu elección (para ver un ejemplo de cómo generar datos de esta manera, ver: https://www.analyticsvidhya.com/blog/2017/06/a-comprehensive-guide-for-linear-ridge-and-lasso-regression/)\n",
        "3.   Haz una selección de mejores subconjuntos (best subsets selection) y muestra cuál es el mejor modelo de acuerdo a $C_p$, BIC y $R^2$ ajustado\n",
        "4.   Repite lo anterior ahora usando *forward stepwise selection* y también con *backward stepwise selection*.\n",
        "5.   Ahora haz regressión Lasso y usa validación cruzada para encontrar el mejor $\\lambda$ para los datos.\n",
        "6.   Discute cómo se comparan los cuatro métodos usados\n",
        "\n"
      ]
    },
    {
      "cell_type": "code",
      "metadata": {
        "id": "7SbShouYJnUR",
        "colab_type": "code",
        "outputId": "0f39540c-4f2a-4599-e178-559abc0ef639",
        "colab": {
          "base_uri": "https://localhost:8080/",
          "height": 72
        }
      },
      "source": [
        "import numpy as np\n",
        "import pandas as pd\n",
        "import matplotlib.pyplot as plt\n",
        "import seaborn as sns\n",
        "import statsmodels.api as sm\n",
        "import statsmodels.formula.api as smf\n",
        "import patsy\n",
        "import itertools\n",
        "from IPython.display import display, HTML\n",
        "from sklearn import linear_model\n",
        "from sklearn.model_selection import KFold\n",
        "from ipywidgets import interact\n",
        "import ipywidgets as widgets\n",
        "import warnings\n",
        "from ipywidgets import interact\n",
        "import ipywidgets as widgets\n",
        "from sklearn.preprocessing import scale\n",
        "from sklearn.decomposition import PCA\n",
        "from sklearn.model_selection import cross_val_score\n",
        "from sklearn.linear_model import LinearRegression\n",
        "from scipy import stats\n",
        "import itertools\n",
        "import time\n",
        "import numpy as np\n",
        "import pandas as pd\n",
        "import seaborn as sns\n",
        "import statsmodels.api as sm\n",
        "\n",
        "import matplotlib.pyplot as plt\n",
        "\n",
        "from sklearn import linear_model\n",
        "from sklearn.metrics import mean_squared_error\n"
      ],
      "execution_count": 0,
      "outputs": [
        {
          "output_type": "stream",
          "text": [
            "/usr/local/lib/python3.6/dist-packages/statsmodels/compat/pandas.py:56: FutureWarning: The pandas.core.datetools module is deprecated and will be removed in a future version. Please use the pandas.tseries module instead.\n",
            "  from pandas.core import datetools\n"
          ],
          "name": "stderr"
        }
      ]
    },
    {
      "cell_type": "code",
      "metadata": {
        "id": "jB6vk-2CJ_nK",
        "colab_type": "code",
        "colab": {}
      },
      "source": [
        "np.random.seed(1)\n",
        "x=np.random.normal(0,1,100)\n",
        "eps=eps=np.random.normal(0,1,100)"
      ],
      "execution_count": 0,
      "outputs": []
    },
    {
      "cell_type": "code",
      "metadata": {
        "id": "dV8NKL0oKfxk",
        "colab_type": "code",
        "colab": {}
      },
      "source": [
        "y=2+2*x+3*(x**2)+2.5*(x**3)+eps"
      ],
      "execution_count": 0,
      "outputs": []
    },
    {
      "cell_type": "code",
      "metadata": {
        "id": "Fl2Yb6svLIm1",
        "colab_type": "code",
        "outputId": "ac10927d-8655-4441-95fe-50debd259f7c",
        "colab": {
          "base_uri": "https://localhost:8080/",
          "height": 364
        }
      },
      "source": [
        "plt.scatter(x=x, y=y_np)"
      ],
      "execution_count": 0,
      "outputs": [
        {
          "output_type": "execute_result",
          "data": {
            "text/plain": [
              "<matplotlib.collections.PathCollection at 0x7fe625fb31d0>"
            ]
          },
          "metadata": {
            "tags": []
          },
          "execution_count": 5
        },
        {
          "output_type": "display_data",
          "data": {
            "image/png": "[encoded data removed]",
            "text/plain": [
              "<Figure size 576x396 with 1 Axes>"
            ]
          },
          "metadata": {
            "tags": []
          }
        }
      ]
    },
    {
      "cell_type": "code",
      "metadata": {
        "id": "EF3wlTDwMS2Q",
        "colab_type": "code",
        "colab": {}
      },
      "source": [
        "def fit_linear_reg(x,y):\n",
        "    model_k = linear_model.LinearRegression(fit_intercept = True)\n",
        "    model_k.fit(x,y)\n",
        "    RSS = mean_squared_error(y,model_k.predict(x))*len(y)\n",
        "    R_squared = model_k.score(x,y)\n",
        "    return RSS, R_squared"
      ],
      "execution_count": 0,
      "outputs": []
    },
    {
      "cell_type": "code",
      "metadata": {
        "id": "D2rL-TK6Mdh2",
        "colab_type": "code",
        "colab": {}
      },
      "source": [
        "k = 11\n",
        "\n",
        "RSS_list, R_squared_list, feature_list = [],[], []\n",
        "numb_features = []\n",
        "\n",
        "from tqdm import tnrange, tqdm_notebook\n",
        "\n",
        "for k in tnrange(1,len(x.columns) + 1, desc = 'Loop...'):\n",
        "\n",
        "    for combo in itertools.combinations(x.columns,k):\n",
        "        tmp_result = fit_linear_reg(x[list(combo)],y_np)    \n",
        "        RSS_list.append(tmp_result[0])                  \n",
        "        R_squared_list.append(tmp_result[1])\n",
        "        feature_list.append(combo)\n",
        "        numb_features.append(len(combo))"
      ],
      "execution_count": 0,
      "outputs": []
    },
    {
      "cell_type": "code",
      "metadata": {
        "id": "YIXeSnIjPmN2",
        "colab_type": "code",
        "colab": {}
      },
      "source": [
        "def get_models(k, X, y):\n",
        "    X_combos = itertools.combinations(list(X.columns), k)\n",
        "    models = []\n",
        "    for X_label in X_combos:\n",
        "        X_smf = ' + '.join(X_label)\n",
        "        f     = '{} ~ {}'.format(y.columns[0], X_smf)\n",
        "        model = smf.ols(formula=f, data=pd.concat([X, y], axis=1)).fit()\n",
        "        models += [(f, model)]\n",
        "    return models\n",
        "\n",
        "def min_rss(statsmodels):\n",
        "    return sorted(statsmodels, key=lambda tup: tup[1].ssr)[0]\n",
        "\n",
        "def max_adjr2(statsmodels):\n",
        "    return sorted(statsmodels, reverse=True, key=lambda tup: tup[1].rsquared_adj)[0]\n",
        "\n",
        "def min_bic(statsmodels):\n",
        "    return sorted(statsmodels, reverse=False, key=lambda tup: tup[1].bic)[0]\n",
        "\n",
        "def min_aic(statsmodels):\n",
        "    return sorted(statsmodels, reverse=False, key=lambda tup: tup[1].aic)[0]"
      ],
      "execution_count": 0,
      "outputs": []
    },
    {
      "cell_type": "code",
      "metadata": {
        "id": "GovSbuamOgkK",
        "colab_type": "code",
        "outputId": "8da710b2-37a0-47cb-fe8c-6fc637445e41",
        "colab": {
          "base_uri": "https://localhost:8080/",
          "height": 561
        }
      },
      "source": [
        "k = np.arange(1, len(X.columns)+1)\n",
        "\n",
        "display(HTML('<h4>Adjusted R^2</h4>'))\n",
        "\n",
        "adjr2 = [max_adjr2(m)[1].rsquared_adj for m in model_subsets]\n",
        "\n",
        "plt.scatter(x=k, y=adjr2)\n",
        "plt.xlabel('k')\n",
        "plt.ylabel('$R^2$')\n",
        "plt.show()\n",
        "\n",
        "coefs_r2 = [(max_adjr2(m)[1].rsquared_adj, max_adjr2(m)[1].params) for m in model_subsets]\n",
        "print('Model selected: \\n{}'.format(max(coefs_r2)[1]))\n"
      ],
      "execution_count": 0,
      "outputs": [
        {
          "output_type": "display_data",
          "data": {
            "text/html": [
              "<h4>Adjusted R^2</h4>"
            ],
            "text/plain": [
              "<IPython.core.display.HTML object>"
            ]
          },
          "metadata": {
            "tags": []
          }
        },
        {
          "output_type": "display_data",
          "data": {
            "image/png": "[encoded data removed]",
            "text/plain": [
              "<Figure size 576x396 with 1 Axes>"
            ]
          },
          "metadata": {
            "tags": []
          }
        },
        {
          "output_type": "stream",
          "text": [
            "Model selected: \n",
            "Intercept    2.298519\n",
            "X            2.659149\n",
            "X10          0.001195\n",
            "X2           2.617578\n",
            "X5           2.279830\n",
            "X7          -0.684882\n",
            "X9           0.065720\n",
            "dtype: float64\n"
          ],
          "name": "stdout"
        }
      ]
    },
    {
      "cell_type": "markdown",
      "metadata": {
        "id": "qDUFh1SSVo5q",
        "colab_type": "text"
      },
      "source": [
        "# Nuevos conceptos"
      ]
    },
    {
      "cell_type": "markdown",
      "metadata": {
        "id": "jq04sm8uixIA",
        "colab_type": "text"
      },
      "source": [
        "Lee las secciones 6.3 y 6.4 de *Introduction* para contestar los siguientes:\n",
        "\n",
        "### Sección 6.3\n",
        "1.   Explica a grandes rasgos en qué consiste la reducción de orden por PCR  \n",
        "Por medio de la reduccion de orden por PCR, se esta asuminedo que la variacion que se tiene en X tendrá la misma direccion en la que esta asociada a Y\n",
        "2.   PCR reduce la cantidad de predictores de r a M. A pesar de esto, ¿por qué no se considera a PCR como un método de selección de predictores?  \n",
        "Porque  las observaciones son lo más cerca posible a las observaciones originales\n",
        "\n",
        "3.   PCR es un método no supervisado mientras que PLS es supervisado. Explica por qué existe esta diferencia.  \n",
        "El PCR es un modelo no supervisado porque se ajusta a sus observaciones y se genera informacion automatica por medio de ese metodo, como por el PLS lleva de por medio una intervencion para poder generar informacion. \n",
        "\n",
        "### Sección 6.4\n",
        "1.   ¿Qué situaciones son de alta dimensión? ¿Qué problemas surgen en estas situaciones?\n",
        "\n",
        "Los conjuntos de datos que contienen más características que observaciones a menudo se refieren\n",
        "a tan alta dimensión. Y lo que puede suceder es que los calculos como lo son las regresiones lineales no casen bien con el numero de observaciones que tiene el modelo. \n",
        "\n",
        "2.   Entre todos los métodos para generar modelos, indica cuáles son apropiados en altas dimensiones y cuáles no, y por qué.\n",
        "\n",
        "\n",
        "### De *Elements*\n",
        "Lee la sección 3.4.3 de *Elements* para explicar la penalización *elastic-net* (la describen hasta el final de la sección)\n",
        "\n",
        "\n"
      ]
    }
  ]
}