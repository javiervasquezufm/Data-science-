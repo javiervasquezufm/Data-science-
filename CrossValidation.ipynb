{
  "nbformat": 4,
  "nbformat_minor": 0,
  "metadata": {
    "colab": {
      "name": "Copy of Laboratorio 5 - EoML.ipynb",
      "version": "0.3.2",
      "provenance": [],
      "collapsed_sections": [],
      "include_colab_link": true
    },
    "kernelspec": {
      "name": "python3",
      "display_name": "Python 3"
    },
    "accelerator": "GPU"
  },
  "cells": [
    {
      "cell_type": "markdown",
      "metadata": {
        "id": "view-in-github",
        "colab_type": "text"
      },
      "source": [
        "<a href=\"https://colab.research.google.com/github/javiervasquezufm/ELEMENTS-OF-MACHINE-LEARNING/blob/master/CrossValidation.ipynb\" target=\"_parent\"><img src=\"https://colab.research.google.com/assets/colab-badge.svg\" alt=\"Open In Colab\"/></a>"
      ]
    },
    {
      "cell_type": "markdown",
      "metadata": {
        "id": "Ogh-5HfiUKBJ",
        "colab_type": "text"
      },
      "source": [
        "# Laboatorio 5\n",
        "\n",
        "En este laboratorio aprenderemos a aplicar validación cruzada de k-folios."
      ]
    },
    {
      "cell_type": "code",
      "metadata": {
        "id": "sqj79xiaUPOV",
        "colab_type": "code",
        "outputId": "270b5311-09dd-4486-cf17-1dde4e516c90",
        "colab": {
          "base_uri": "https://localhost:8080/",
          "height": 34
        }
      },
      "source": [
        "import numpy as np\n",
        "import pandas as pd\n",
        "\n",
        "import matplotlib\n",
        "import matplotlib.pyplot as plt\n",
        "\n",
        "import seaborn as sns\n",
        "\n",
        "import statsmodels\n",
        "import statsmodels.formula.api as smf\n",
        "from sklearn.linear_model import LinearRegression\n",
        "lm = LinearRegression()\n",
        "from sklearn.datasets import load_iris\n",
        "from sklearn.neighbors import KNeighborsClassifier\n",
        "from sklearn import metrics\n",
        "from sklearn.datasets import load_iris\n",
        "from sklearn.model_selection import train_test_split\n",
        "from sklearn import datasets\n",
        "from sklearn import svm\n",
        "\n",
        "\n",
        "from sklearn.model_selection import KFold\n",
        "\n",
        "print(\"Todos los paquetes han sido importados:\")"
      ],
      "execution_count": 0,
      "outputs": [
        {
          "output_type": "stream",
          "text": [
            "Todos los paquetes han sido importados:\n"
          ],
          "name": "stdout"
        }
      ]
    },
    {
      "cell_type": "markdown",
      "metadata": {
        "id": "YEj6N0DeVm9H",
        "colab_type": "text"
      },
      "source": [
        "## Validación cruzada\n",
        "\n",
        "Es un procedimiento que evalúa las habilidades predictivas de un modelo en una muestra limitada. El procedimiento general es\n",
        "\n",
        "1.   Reordenar la muestra aleatoriamente\n",
        "2.   Separar el dataset en k grupos\n",
        "3.   Tomar k-1 grupos como datos de entrenamiento y el otro como grupo de validación\n",
        "4.   Entrenar un modelo sobre uno de los grupos de entrenamiento\n",
        "5.   Evaluar el modelo sobre el grupo restante correspondiente, el grupo de validación\n",
        "6.   Guardar alguna medida de habilidad del modelo y descartar el modelo\n",
        "7.   Repetir 4 a 6 tomando un nuevo split\n",
        "\n",
        "Cualquier preparación de los datos debe aplicarse entre los pasos 2 y 3, no antes. De lo contrario, se estará sobreestimando las habilidades de los modelos (como descrito en la sección 7.10.2 del libro \"The elements of machine learning\")\n",
        "\n"
      ]
    },
    {
      "cell_type": "markdown",
      "metadata": {
        "id": "acKXMedFcPYx",
        "colab_type": "text"
      },
      "source": [
        "### Cómo separar un grupo de datos\n",
        "\n",
        "Imagina que tenemos una muestra de 6 observaciones"
      ]
    },
    {
      "cell_type": "code",
      "metadata": {
        "id": "ZT0BWlY-cgxa",
        "colab_type": "code",
        "outputId": "15a35ae7-068a-46b9-fb45-60973ceb2f43",
        "colab": {
          "base_uri": "https://localhost:8080/",
          "height": 123
        }
      },
      "source": [
        "data = np.array([1,2,3,4,5,6])\n",
        "kfold = KFold(3,True,1) #Recuerda que puedes revisar la documentación de nuevas funciones usando Tab luego del primer paréntesis\n",
        "splitdata = kfold.split(data) # Esta función genera listas de índices separadas como indicado\n",
        "for train, test in splitdata:\n",
        "  # imprimo en la línea 'split' los índices train y test que generó kfold.split\n",
        "  print('split %s, %s\\ntrain: %s, test: %s' % (train,test,data[train], data[test]))"
      ],
      "execution_count": 0,
      "outputs": [
        {
          "output_type": "stream",
          "text": [
            "split [0 3 4 5], [1 2]\n",
            "train: [1 4 5 6], test: [2 3]\n",
            "split [1 2 3 5], [0 4]\n",
            "train: [2 3 4 6], test: [1 5]\n",
            "split [0 1 2 4], [3 5]\n",
            "train: [1 2 3 5], test: [4 6]\n"
          ],
          "name": "stdout"
        }
      ]
    },
    {
      "cell_type": "markdown",
      "metadata": {
        "id": "KrMe1pHyeYoH",
        "colab_type": "text"
      },
      "source": [
        "kfold.split separó los datos como esperado. Cada una de las observaciones aparece k-1 veces como parte de un grupo de entrenamiento y 1 vez como parte del grupo de validación. Para aplicar esto a observaciones con un target, simplemente lo colocamos también en el argumento de kfold.split:"
      ]
    },
    {
      "cell_type": "code",
      "metadata": {
        "id": "uwThoOpFetH_",
        "colab_type": "code",
        "outputId": "01eee5e6-5e09-4fdf-c61e-8764f9f910db",
        "colab": {
          "base_uri": "https://localhost:8080/",
          "height": 176
        }
      },
      "source": [
        "data = np.array(([1,2,3,4,5,6],[10,20,30,40,50,60]))\n",
        "kfold = KFold(3,True,1)\n",
        "splitdata = kfold.split(X = data[0], y = data[1])\n",
        "for train, test in splitdata:\n",
        "  print('split %s, %s\\ntrain x: %s, test x: %s' % (train,test,data[0][train], data[0][test]))\n",
        "  print('train y: %s, test y: %s' % (data[1][train], data[1][test]))"
      ],
      "execution_count": 0,
      "outputs": [
        {
          "output_type": "stream",
          "text": [
            "split [0 3 4 5], [1 2]\n",
            "train x: [1 4 5 6], test x: [2 3]\n",
            "train y: [10 40 50 60], test y: [20 30]\n",
            "split [1 2 3 5], [0 4]\n",
            "train x: [2 3 4 6], test x: [1 5]\n",
            "train y: [20 30 40 60], test y: [10 50]\n",
            "split [0 1 2 4], [3 5]\n",
            "train x: [1 2 3 5], test x: [4 6]\n",
            "train y: [10 20 30 50], test y: [40 60]\n"
          ],
          "name": "stdout"
        }
      ]
    },
    {
      "cell_type": "markdown",
      "metadata": {
        "id": "1Rd7XC4ohbS5",
        "colab_type": "text"
      },
      "source": [
        "### Aplicación completa del procedimiento CV\n",
        "Ahora, para cada split entremos algún modelo y evaluamos en su grupo respectivo. Usaré una regresión logística (no muy astuto, eh?)"
      ]
    },
    {
      "cell_type": "code",
      "metadata": {
        "id": "2PMjX5F9iC4e",
        "colab_type": "code",
        "outputId": "75ff0b05-3f58-4729-d253-b6d7e05b2bc1",
        "colab": {
          "base_uri": "https://localhost:8080/",
          "height": 194
        }
      },
      "source": [
        "data = np.array(([1,2,3,4,5,6],[0.1,0.2,0.3,0.4,0.5,0.6]))\n",
        "# Pasos 1 y 2 ocurren en la siguiente línea\n",
        "kfold = KFold(3,True,1)\n",
        "# Paso 3 ocurre al usar split\n",
        "splitdata = kfold.split(X = data[0], y = data[1])\n",
        "RMSE_i = [] # Aquí es donde guardaré mi medida de varianza para cada modelo\n",
        "for train, test in splitdata:\n",
        "  # 4. Ajustar una regresión logística en un grupo de entrenamiento\n",
        "  model = smf.Logit(data[1][train], data[0][train]).fit()\n",
        "  # 5. Evaluar en el grupo de entrenamiento\n",
        "  y_hat = model.predict(data[0][test])\n",
        "  # 6. Guardar una medida de habilidad del modelo\n",
        "  RMSE_i.append((sum((y_hat - data[1][test])**2)/len(y_hat))**(1/2))\n",
        "  # Al repetir el loop, descartamos el modelo y repetimos los pasos para otro split\n",
        "  \n",
        "RMSE = np.mean(RMSE_i)\n",
        "print(RMSE)"
      ],
      "execution_count": 0,
      "outputs": [
        {
          "output_type": "stream",
          "text": [
            "Optimization terminated successfully.\n",
            "         Current function value: 0.692643\n",
            "         Iterations 3\n",
            "Optimization terminated successfully.\n",
            "         Current function value: 0.678234\n",
            "         Iterations 4\n",
            "Optimization terminated successfully.\n",
            "         Current function value: 0.627815\n",
            "         Iterations 4\n",
            "0.2562016989481721\n"
          ],
          "name": "stdout"
        }
      ]
    },
    {
      "cell_type": "markdown",
      "metadata": {
        "id": "tcKfG6Nnh9Xd",
        "colab_type": "text"
      },
      "source": [
        "### Ejercicio\n",
        "\n",
        "Haz el mismo procedimiento que hicimos con la regresión logística, solo que ahora con una regresión lineal. Compara los RMSE"
      ]
    },
    {
      "cell_type": "code",
      "metadata": {
        "id": "TewrnFdLRR-9",
        "colab_type": "code",
        "outputId": "765360c2-47f2-4948-9a95-3da18496a78d",
        "colab": {
          "base_uri": "https://localhost:8080/",
          "height": 390
        }
      },
      "source": [
        "kfold = KFold(3,True,1)\n",
        "splitdata = kfold.split(X = data[0], y = data[1])\n",
        "RMSE_i = [] \n",
        "for train, test in splitdata:\n",
        "  lm = LinearRegression()\n",
        "  lm.fit(data[0][train].reshape(-1,1),data[1][train].reshape(-1,1))\n",
        "  y_hat = lm.predict(data[0][test].reshape(-1,1))\n",
        "  print(y_hat.reshape(-1,1) - data[1][test].reshape(-1,1))\n",
        "  print(data[1][test].reshape(-1,1))\n",
        "  print(y_hat)\n",
        "  RMSE_i.append((sum((y_hat - data[1][test].reshape(-1,1))**2)/len(y_hat.reshape(-1,1)))**(1/2))\n",
        "  RMSE = np.mean(RMSE_i)\n",
        "  print(RMSE)\n",
        "\n",
        "\n",
        "\n",
        "\n"
      ],
      "execution_count": 0,
      "outputs": [
        {
          "output_type": "stream",
          "text": [
            "[[-5.55111512e-17]\n",
            " [ 0.00000000e+00]]\n",
            "[[0.2]\n",
            " [0.3]]\n",
            "[[0.2]\n",
            " [0.3]]\n",
            "3.925231146709438e-17\n",
            "[[8.32667268e-17]\n",
            " [0.00000000e+00]]\n",
            "[[0.1]\n",
            " [0.5]]\n",
            "[[0.1]\n",
            " [0.5]]\n",
            "4.906538933386797e-17\n",
            "[[0.00000000e+00]\n",
            " [1.11022302e-16]]\n",
            "[[0.4]\n",
            " [0.6]]\n",
            "[[0.4]\n",
            " [0.6]]\n",
            "5.887846720064156e-17\n"
          ],
          "name": "stdout"
        }
      ]
    },
    {
      "cell_type": "code",
      "metadata": {
        "id": "MXGqJFR3C88O",
        "colab_type": "code",
        "colab": {}
      },
      "source": [
        "from sklearn.metrics import mean_squared_error\n",
        "from math import sqrt"
      ],
      "execution_count": 0,
      "outputs": []
    },
    {
      "cell_type": "code",
      "metadata": {
        "id": "WD09kTo_DcSa",
        "colab_type": "code",
        "colab": {}
      },
      "source": [
        "data = np.array(([1,2,3,4,5,6],[0.1,0.2,0.3,0.4,0.5,0.6]))\n",
        "kfold = KFold(3,True,1)\n",
        "splitdata = kfold.split(X = data[0], y = data[1])\n",
        "RMSE_i = [] \n",
        "for train, test in splitdata:\n",
        "  model = lm(data[1][train], data[0][train]).fit()\n",
        "  y_hat = model.predict(data[0][test])\n",
        "  RMSE_i.append((sum((y_hat - data[1][test])**2)/len(y_hat))**(1/2))\n",
        "  \n",
        "RMSE = np.mean(RMSE_i)\n",
        "print(RMSE)"
      ],
      "execution_count": 0,
      "outputs": []
    },
    {
      "cell_type": "code",
      "metadata": {
        "id": "_MFTw06CLBFj",
        "colab_type": "code",
        "colab": {}
      },
      "source": [
        "from sklearn.model_selection import cross_val_score\n",
        "scores = cross_val_score(clf, X_Train, Y_Train, scoring=\"neg_mean_squared_error\", cv=10)\n",
        "rmse_scores = np.sqrt(-scores)"
      ],
      "execution_count": 0,
      "outputs": []
    },
    {
      "cell_type": "markdown",
      "metadata": {
        "id": "GYYGOXmOusZT",
        "colab_type": "text"
      },
      "source": [
        "## Ejercicio de aplicación\n",
        "\n",
        "Utiliza los datos de Iris (los del laboratorio 2) para investigar la dependencia de la varianza () con el valor k al hacer el procedimiento de validación cruzada. Como resultado, debes presentar una gráfica de RMSE contra k de por lo menos 10 diferentes valores de k.\n"
      ]
    },
    {
      "cell_type": "code",
      "metadata": {
        "id": "qeL9pSSpI_z_",
        "colab_type": "code",
        "outputId": "3ddbaafa-41ba-418d-a169-e9a7e11592e7",
        "colab": {
          "base_uri": "https://localhost:8080/",
          "height": 1105
        }
      },
      "source": [
        "from sklearn.datasets import load_iris\n",
        "\n",
        "iris = load_iris()\n",
        "X = iris.data\n",
        "y = iris.target\n",
        "\n",
        "print(iris.keys())\n",
        "print(iris[\"DESCR\"])"
      ],
      "execution_count": 0,
      "outputs": [
        {
          "output_type": "stream",
          "text": [
            "dict_keys(['data', 'target', 'target_names', 'DESCR', 'feature_names', 'filename'])\n",
            ".. _iris_dataset:\n",
            "\n",
            "Iris plants dataset\n",
            "--------------------\n",
            "\n",
            "**Data Set Characteristics:**\n",
            "\n",
            "    :Number of Instances: 150 (50 in each of three classes)\n",
            "    :Number of Attributes: 4 numeric, predictive attributes and the class\n",
            "    :Attribute Information:\n",
            "        - sepal length in cm\n",
            "        - sepal width in cm\n",
            "        - petal length in cm\n",
            "        - petal width in cm\n",
            "        - class:\n",
            "                - Iris-Setosa\n",
            "                - Iris-Versicolour\n",
            "                - Iris-Virginica\n",
            "                \n",
            "    :Summary Statistics:\n",
            "\n",
            "    ============== ==== ==== ======= ===== ====================\n",
            "                    Min  Max   Mean    SD   Class Correlation\n",
            "    ============== ==== ==== ======= ===== ====================\n",
            "    sepal length:   4.3  7.9   5.84   0.83    0.7826\n",
            "    sepal width:    2.0  4.4   3.05   0.43   -0.4194\n",
            "    petal length:   1.0  6.9   3.76   1.76    0.9490  (high!)\n",
            "    petal width:    0.1  2.5   1.20   0.76    0.9565  (high!)\n",
            "    ============== ==== ==== ======= ===== ====================\n",
            "\n",
            "    :Missing Attribute Values: None\n",
            "    :Class Distribution: 33.3% for each of 3 classes.\n",
            "    :Creator: R.A. Fisher\n",
            "    :Donor: Michael Marshall (MARSHALL%PLU@io.arc.nasa.gov)\n",
            "    :Date: July, 1988\n",
            "\n",
            "The famous Iris database, first used by Sir R.A. Fisher. The dataset is taken\n",
            "from Fisher's paper. Note that it's the same as in R, but not as in the UCI\n",
            "Machine Learning Repository, which has two wrong data points.\n",
            "\n",
            "This is perhaps the best known database to be found in the\n",
            "pattern recognition literature.  Fisher's paper is a classic in the field and\n",
            "is referenced frequently to this day.  (See Duda & Hart, for example.)  The\n",
            "data set contains 3 classes of 50 instances each, where each class refers to a\n",
            "type of iris plant.  One class is linearly separable from the other 2; the\n",
            "latter are NOT linearly separable from each other.\n",
            "\n",
            ".. topic:: References\n",
            "\n",
            "   - Fisher, R.A. \"The use of multiple measurements in taxonomic problems\"\n",
            "     Annual Eugenics, 7, Part II, 179-188 (1936); also in \"Contributions to\n",
            "     Mathematical Statistics\" (John Wiley, NY, 1950).\n",
            "   - Duda, R.O., & Hart, P.E. (1973) Pattern Classification and Scene Analysis.\n",
            "     (Q327.D83) John Wiley & Sons.  ISBN 0-471-22361-1.  See page 218.\n",
            "   - Dasarathy, B.V. (1980) \"Nosing Around the Neighborhood: A New System\n",
            "     Structure and Classification Rule for Recognition in Partially Exposed\n",
            "     Environments\".  IEEE Transactions on Pattern Analysis and Machine\n",
            "     Intelligence, Vol. PAMI-2, No. 1, 67-71.\n",
            "   - Gates, G.W. (1972) \"The Reduced Nearest Neighbor Rule\".  IEEE Transactions\n",
            "     on Information Theory, May 1972, 431-433.\n",
            "   - See also: 1988 MLC Proceedings, 54-64.  Cheeseman et al\"s AUTOCLASS II\n",
            "     conceptual clustering system finds 3 classes in the data.\n",
            "   - Many, many more ...\n"
          ],
          "name": "stdout"
        }
      ]
    },
    {
      "cell_type": "code",
      "metadata": {
        "id": "ohNMJhc0JawA",
        "colab_type": "code",
        "outputId": "a254df90-816a-4c19-ec4c-95803f5e56c9",
        "colab": {
          "base_uri": "https://localhost:8080/",
          "height": 34
        }
      },
      "source": [
        "X_train, X_test, y_train, y_test = train_test_split(X, y, random_state=6)\n",
        "\n",
        "#K=5\n",
        "knn = KNeighborsClassifier(n_neighbors=5)\n",
        "knn.fit(X_train, y_train)\n",
        "y_pred = knn.predict(X_test)\n",
        "metrics.accuracy_score(y_test, y_pred)"
      ],
      "execution_count": 0,
      "outputs": [
        {
          "output_type": "execute_result",
          "data": {
            "text/plain": [
              "0.9736842105263158"
            ]
          },
          "metadata": {
            "tags": []
          },
          "execution_count": 14
        }
      ]
    },
    {
      "cell_type": "code",
      "metadata": {
        "id": "1i7tPLQBKwNM",
        "colab_type": "code",
        "outputId": "724db0e9-f3d5-407a-cfe9-e7cdbf256dc7",
        "colab": {
          "base_uri": "https://localhost:8080/",
          "height": 34
        }
      },
      "source": [
        "from sklearn.model_selection import cross_val_score\n",
        "clf = svm.SVC(kernel='linear', C=1)\n",
        "scores = cross_val_score(clf, iris.data, iris.target, cv=5)\n",
        "scores                                        "
      ],
      "execution_count": 0,
      "outputs": [
        {
          "output_type": "execute_result",
          "data": {
            "text/plain": [
              "array([0.96666667, 1.        , 0.96666667, 0.96666667, 1.        ])"
            ]
          },
          "metadata": {
            "tags": []
          },
          "execution_count": 20
        }
      ]
    }
  ]
}