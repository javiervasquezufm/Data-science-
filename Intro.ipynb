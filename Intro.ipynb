{
  "nbformat": 4,
  "nbformat_minor": 0,
  "metadata": {
    "colab": {
      "name": "Tarea1-EoML-UFM.ipynb",
      "version": "0.3.2",
      "provenance": [],
      "include_colab_link": true
    },
    "kernelspec": {
      "name": "python3",
      "display_name": "Python 3"
    }
  },
  "cells": [
    {
      "cell_type": "markdown",
      "metadata": {
        "id": "view-in-github",
        "colab_type": "text"
      },
      "source": [
        "<a href=\"https://colab.research.google.com/github/javiervasquezufm/ELEMENTS-OF-MACHINE-LEARNING/blob/master/Intro.ipynb\" target=\"_parent\"><img src=\"https://colab.research.google.com/assets/colab-badge.svg\" alt=\"Open In Colab\"/></a>"
      ]
    },
    {
      "cell_type": "markdown",
      "metadata": {
        "id": "HdlfBgpPWbPA",
        "colab_type": "text"
      },
      "source": [
        "Haz una copia de este notebook. Responde a las preguntas conceptuales agregando una célula de texto, y las preguntas de aplicación usando código o texto como te parezca conveniente. Las preguntas son adaptadas del libro ¨Introduction to Statistical Learning¨ de  Gareth James, Daniela Witten, Trevor Hastie y Robert Tibshirani (http://www-bcf.usc.edu/~gareth/ISL/data.html)"
      ]
    },
    {
      "cell_type": "markdown",
      "metadata": {
        "id": "f23hAftwWO03",
        "colab_type": "text"
      },
      "source": [
        "# Tarea 1. Elements of Machine Learning. UFM"
      ]
    },
    {
      "cell_type": "markdown",
      "metadata": {
        "id": "xbzDInddLWIr",
        "colab_type": "text"
      },
      "source": [
        "- - -\n",
        "# Conceptual"
      ]
    },
    {
      "cell_type": "markdown",
      "metadata": {
        "id": "4ytMfqilWRyN",
        "colab_type": "text"
      },
      "source": [
        "## 1:\n",
        "Para cada uno de los siguientes, indica si en general esperarías que un método de aprendizaje flexible le iría mejor que a uno inflexible en cada caso. Justifica tus respuestas:\n",
        "\n",
        "\n",
        "\n",
        "> a. El tamaño muestral $n$ es extremadamente pequeño, y el número de predictores $p$ es pequeño\n",
        "\n",
        "> b. El número de predictores $p$ es extremadamente grande, y el número de observaciones $n$ es pequeño\n",
        "\n",
        "> c. La relación entre los predictores y la respuesta es altamente no-lineal\n",
        "\n",
        "> d. La varianza de los errores aleatorios, $\\mathbb{V}[\\epsilon]$, es extremadamente alta\n",
        "\n"
      ]
    },
    {
      "cell_type": "markdown",
      "metadata": {
        "id": "fgybgz3hX-H0",
        "colab_type": "text"
      },
      "source": [
        "## 2:\n",
        "El DataFrame generado en el siguiente código contiene train data con seis observaciones: tres predictores $X_1$, $X_2$, y $X_3$ y una variable de respuesta cualitativa $Y$. Imagina que queremos usar esta información para hacer predicciones de Y cuando $X_1=X_2=X_3=0$ usando K-nearest neighbors"
      ]
    },
    {
      "cell_type": "code",
      "metadata": {
        "id": "Y0BkzmGwYr_n",
        "colab_type": "code",
        "outputId": "4f06cde4-d8f5-4ed1-ad91-d18bcfd9c267",
        "colab": {
          "base_uri": "https://localhost:8080/",
          "height": 238
        }
      },
      "source": [
        "from __future__ import print_function\n",
        "\n",
        "import pandas as pd\n",
        "pd.__version__\n",
        "\n",
        "X_1 = pd.Series([0,2,0,0,-1,1])\n",
        "X_2 = pd.Series([3,0,1,1,0,1])\n",
        "X_3 = pd.Series([0,0,3,2,1,1])\n",
        "Y = pd.Series(['Red','Red','Red','Green','Green','Red'])\n",
        "\n",
        "TrainData = pd.DataFrame({\"X_1\":X_1, \"X_2\":X_2, \"X_3\":X_3, \"Y\":Y})\n",
        "TrainData"
      ],
      "execution_count": 0,
      "outputs": [
        {
          "output_type": "execute_result",
          "data": {
            "text/html": [
              "<div>\n",
              "<style scoped>\n",
              "    .dataframe tbody tr th:only-of-type {\n",
              "        vertical-align: middle;\n",
              "    }\n",
              "\n",
              "    .dataframe tbody tr th {\n",
              "        vertical-align: top;\n",
              "    }\n",
              "\n",
              "    .dataframe thead th {\n",
              "        text-align: right;\n",
              "    }\n",
              "</style>\n",
              "<table border=\"1\" class=\"dataframe\">\n",
              "  <thead>\n",
              "    <tr style=\"text-align: right;\">\n",
              "      <th></th>\n",
              "      <th>X_1</th>\n",
              "      <th>X_2</th>\n",
              "      <th>X_3</th>\n",
              "      <th>Y</th>\n",
              "    </tr>\n",
              "  </thead>\n",
              "  <tbody>\n",
              "    <tr>\n",
              "      <th>0</th>\n",
              "      <td>0</td>\n",
              "      <td>3</td>\n",
              "      <td>0</td>\n",
              "      <td>Red</td>\n",
              "    </tr>\n",
              "    <tr>\n",
              "      <th>1</th>\n",
              "      <td>2</td>\n",
              "      <td>0</td>\n",
              "      <td>0</td>\n",
              "      <td>Red</td>\n",
              "    </tr>\n",
              "    <tr>\n",
              "      <th>2</th>\n",
              "      <td>0</td>\n",
              "      <td>1</td>\n",
              "      <td>3</td>\n",
              "      <td>Red</td>\n",
              "    </tr>\n",
              "    <tr>\n",
              "      <th>3</th>\n",
              "      <td>0</td>\n",
              "      <td>1</td>\n",
              "      <td>2</td>\n",
              "      <td>Green</td>\n",
              "    </tr>\n",
              "    <tr>\n",
              "      <th>4</th>\n",
              "      <td>-1</td>\n",
              "      <td>0</td>\n",
              "      <td>1</td>\n",
              "      <td>Green</td>\n",
              "    </tr>\n",
              "    <tr>\n",
              "      <th>5</th>\n",
              "      <td>1</td>\n",
              "      <td>1</td>\n",
              "      <td>1</td>\n",
              "      <td>Red</td>\n",
              "    </tr>\n",
              "  </tbody>\n",
              "</table>\n",
              "</div>"
            ],
            "text/plain": [
              "   X_1  X_2  X_3      Y\n",
              "0    0    3    0    Red\n",
              "1    2    0    0    Red\n",
              "2    0    1    3    Red\n",
              "3    0    1    2  Green\n",
              "4   -1    0    1  Green\n",
              "5    1    1    1    Red"
            ]
          },
          "metadata": {
            "tags": []
          },
          "execution_count": 4
        }
      ]
    },
    {
      "cell_type": "markdown",
      "metadata": {
        "id": "iGYOyQk3aJCg",
        "colab_type": "text"
      },
      "source": [
        "> a. Evalúa la distancia euclidiana entre cada observación y el origen $X_1=X_2=X_3=0$\n",
        "\n",
        "> b. ¿Qué predicción harías para K = 1? ¿Por qué?\n",
        "\n",
        "> c. ¿Qué predicción harías para K = 3? ¿Por qué?\n",
        "\n",
        "> d. Si la frontera de decisión de Bayes en este problema es altamente no-lineal, ¿esperaríamos entonces que el mejor valor de K sea grande o pequeño? ¿Por qué?"
      ]
    },
    {
      "cell_type": "code",
      "metadata": {
        "id": "bdCAniQ5GlYe",
        "colab_type": "code",
        "colab": {}
      },
      "source": [
        ""
      ],
      "execution_count": 0,
      "outputs": []
    },
    {
      "cell_type": "markdown",
      "metadata": {
        "id": "ZwJQ7ki7LrIw",
        "colab_type": "text"
      },
      "source": [
        "## 3:\n",
        "\n",
        "**Ejercicio 2.4.2**"
      ]
    },
    {
      "cell_type": "markdown",
      "metadata": {
        "id": "BRM_CvG8MRLp",
        "colab_type": "text"
      },
      "source": [
        "## 4:\n",
        "\n",
        "**Ejercicio 2.4.4**"
      ]
    },
    {
      "cell_type": "markdown",
      "metadata": {
        "id": "ldLvXjbvLRZ0",
        "colab_type": "text"
      },
      "source": [
        "- - -\n",
        "# Aplicado"
      ]
    },
    {
      "cell_type": "markdown",
      "metadata": {
        "id": "SsfxhY8ccpwJ",
        "colab_type": "text"
      },
      "source": [
        "## 5:\n",
        "Use los datos en el archivo College.csv encontrado en el enlace http://www-bcf.usc.edu/~gareth/ISL/data.html. Puede descargar el archivo csv y subirlo a su sesión de Google Colab de la siguiente manera:\n",
        "\n",
        "```python\n",
        "from google.colab import files \n",
        "upload = files.upload()\n",
        "```\n",
        "\n",
        "Le pedirá elegir un archivo, el cual debe de ser el archivo que descargó previamente. Use `panda` para explorarlo como DataFrame y notar que contiene 18 variables para 777 diferentes universidades en Estados Unidos. Las variables son\n",
        "\n",
        "\n",
        "*   *Private*: Public/private\n",
        "*   *Apps*: Número de aplicaciones\n",
        "*   *Accept*: Número de aplicaciones aceptadas\n",
        "*   *Enroll*: Número de estudiantes inscritos\n",
        "*   *Top10perc*: Nuevos estudiantes del top 10% de su clase de secundaria\n",
        "*   *Top25perc*: Nuevos estudiantes del top 25% de su clase de secundaria\n",
        "*   *F.Undergrad*: Número de undergrads de tiempo completo\n",
        "*   *P.Undergrad*: Número de undergrads de tiempo parcial\n",
        "*   *Outstate*: Out-of-state tuititon\n",
        "*   *Room.Board*: Costos de cuarto\n",
        "*   *Books*: Costos de libros estimados\n",
        "*   *Personal*: Costos personales estimados\n",
        "*   *PhD*: Porcentaje de la facultad con PhD's\n",
        "*   *Terminal*: Porcentaje de la facultad con título más alto en su disciplina\n",
        "*   *S.F.Ratio*: Razón entre estudiantes y miembros de la facultad\n",
        "*   *perc.alumni*: Porcentaje de alumnos que hacen donaciones\n",
        "*   *Expend*: Gastos de instrucción por estudiante\n",
        "*   *Grad.Rate*: Razón de alumnos graduados\n",
        "\n",
        "> a. Explora los datos usando panda y las funciones .describe(), head().\n",
        "\n",
        "> b. Agrega una nueva serie con el porcentaje de aplicaciones aceptadas calculado a partir de las variables en el archivo\n",
        "\n",
        "> c. Haz un histograma del porcentaje de aplicaciones aceptadas usando la función .hist('-') donde '-' es la variable que creaste en b\n",
        "\n",
        "> d. ¿Qué observaciones tienes sobre las 777 universidades luego de explorar los datos?\n"
      ]
    },
    {
      "cell_type": "code",
      "metadata": {
        "id": "K6RLhSfqgBLO",
        "colab_type": "code",
        "colab": {}
      },
      "source": [
        ""
      ],
      "execution_count": 0,
      "outputs": []
    }
  ]
}